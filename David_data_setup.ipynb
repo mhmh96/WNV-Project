{
 "cells": [
  {
   "cell_type": "code",
   "execution_count": 1,
   "metadata": {},
   "outputs": [],
   "source": [
    "import pandas as pd\n",
    "import numpy as np\n",
    "import matplotlib.pyplot as plt\n",
    "import seaborn as sns\n",
    "from haversine import haversine\n",
    "from sklearn.model_selection import train_test_split\n",
    "np.random.seed(42)\n",
    "import scipy.stats as stats\n",
    "import seaborn as sns\n",
    "\n",
    "from matplotlib import rcParams\n",
    "rcParams.update({'figure.autolayout':True})\n",
    "\n",
    "plt.style.use([\"presentation\"])\n",
    "\n",
    "%matplotlib inline"
   ]
  },
  {
   "cell_type": "code",
   "execution_count": 2,
   "metadata": {},
   "outputs": [],
   "source": [
    "prediction_data=pd.read_csv('./assets/test.csv')"
   ]
  },
  {
   "cell_type": "code",
   "execution_count": 3,
   "metadata": {},
   "outputs": [],
   "source": [
    "working_data=pd.read_csv('./assets/train.csv')"
   ]
  },
  {
   "cell_type": "code",
   "execution_count": 4,
   "metadata": {},
   "outputs": [],
   "source": [
    "NOAA=pd.read_csv('./assets/weather.csv')"
   ]
  },
  {
   "cell_type": "code",
   "execution_count": 5,
   "metadata": {},
   "outputs": [],
   "source": [
    "spray=pd.read_csv('./assets/spray.csv')"
   ]
  },
  {
   "cell_type": "code",
   "execution_count": 6,
   "metadata": {},
   "outputs": [],
   "source": [
    "standing=pd.read_csv('./extra_data/Sanitation_Revised.csv')"
   ]
  },
  {
   "cell_type": "markdown",
   "metadata": {},
   "source": [
    "# A. Data QA/Cleaning"
   ]
  },
  {
   "cell_type": "code",
   "execution_count": 7,
   "metadata": {},
   "outputs": [],
   "source": [
    "\n",
    "train, test=train_test_split(working_data, test_size=.20, random_state=523)"
   ]
  },
  {
   "cell_type": "code",
   "execution_count": 8,
   "metadata": {},
   "outputs": [
    {
     "data": {
      "text/plain": [
       "Species\n",
       "CULEX PIPIENS             0.085952\n",
       "CULEX PIPIENS/RESTUANS    0.054068\n",
       "CULEX RESTUANS            0.016988\n",
       "CULEX SALINARIUS          0.000000\n",
       "CULEX TARSALIS            0.000000\n",
       "CULEX TERRITANS           0.000000\n",
       "Name: WnvPresent, dtype: float64"
      ]
     },
     "execution_count": 8,
     "metadata": {},
     "output_type": "execute_result"
    }
   ],
   "source": [
    "train.groupby(by='Species')['WnvPresent'].mean()"
   ]
  },
  {
   "cell_type": "code",
   "execution_count": 9,
   "metadata": {},
   "outputs": [],
   "source": [
    "train=train.copy()\n",
    "test=test.copy()"
   ]
  },
  {
   "cell_type": "code",
   "execution_count": 10,
   "metadata": {},
   "outputs": [],
   "source": [
    "def clean(df):\n",
    "    df['Date']=pd.to_datetime(df['Date'])\n",
    "    \n",
    "    def mapping(x):\n",
    "        if x == 'CULEX PIPIENS':\n",
    "            return 'PIPIENS'\n",
    "        elif x == 'CULEX PIPIENS/RESTUANS':\n",
    "            return 'MIX'\n",
    "        elif x == 'CULEX RESTUANS':\n",
    "            return 'RESTUANS'\n",
    "        else:\n",
    "            return 'OTHER'\n",
    "    \n",
    "    df['Species']=df['Species'].map(mapping)\n",
    "    \n",
    "    dummies=pd.get_dummies(df['Species']).drop(['OTHER'], axis=1)\n",
    "    df=pd.concat([df, dummies], axis=1)\n",
    "    df['Location']=list(zip(df['Latitude'],df['Longitude']))\n",
    "    df=df.drop(['Address', 'Latitude', 'Longitude', 'Trap', \n",
    "                'AddressNumberAndStreet', 'AddressAccuracy','Species'], axis=1)\n",
    "                    \n",
    "    return df"
   ]
  },
  {
   "cell_type": "code",
   "execution_count": 11,
   "metadata": {},
   "outputs": [],
   "source": [
    "train=clean(train)\n",
    "test=clean(test)\n",
    "prediction_data=clean(prediction_data)"
   ]
  },
  {
   "cell_type": "code",
   "execution_count": 12,
   "metadata": {},
   "outputs": [
    {
     "data": {
      "text/plain": [
       "Id                   int64\n",
       "Date        datetime64[ns]\n",
       "Block                int64\n",
       "Street              object\n",
       "MIX                  uint8\n",
       "PIPIENS              uint8\n",
       "RESTUANS             uint8\n",
       "Location            object\n",
       "dtype: object"
      ]
     },
     "execution_count": 12,
     "metadata": {},
     "output_type": "execute_result"
    }
   ],
   "source": [
    "prediction_data.dtypes"
   ]
  },
  {
   "cell_type": "code",
   "execution_count": 13,
   "metadata": {},
   "outputs": [],
   "source": [
    "standing['Coord']=list(zip(standing['Latitude'], standing['Longitude']))"
   ]
  },
  {
   "cell_type": "code",
   "execution_count": 14,
   "metadata": {},
   "outputs": [],
   "source": [
    "standing=standing['Coord'].dropna()"
   ]
  },
  {
   "cell_type": "code",
   "execution_count": 15,
   "metadata": {},
   "outputs": [
    {
     "data": {
      "text/html": [
       "<div>\n",
       "<style scoped>\n",
       "    .dataframe tbody tr th:only-of-type {\n",
       "        vertical-align: middle;\n",
       "    }\n",
       "\n",
       "    .dataframe tbody tr th {\n",
       "        vertical-align: top;\n",
       "    }\n",
       "\n",
       "    .dataframe thead th {\n",
       "        text-align: right;\n",
       "    }\n",
       "</style>\n",
       "<table border=\"1\" class=\"dataframe\">\n",
       "  <thead>\n",
       "    <tr style=\"text-align: right;\">\n",
       "      <th></th>\n",
       "      <th>Date</th>\n",
       "      <th>Block</th>\n",
       "      <th>Street</th>\n",
       "      <th>NumMosquitos</th>\n",
       "      <th>WnvPresent</th>\n",
       "      <th>MIX</th>\n",
       "      <th>PIPIENS</th>\n",
       "      <th>RESTUANS</th>\n",
       "      <th>Location</th>\n",
       "    </tr>\n",
       "  </thead>\n",
       "  <tbody>\n",
       "    <tr>\n",
       "      <th>4526</th>\n",
       "      <td>2009-07-06</td>\n",
       "      <td>50</td>\n",
       "      <td>S UNION AVE</td>\n",
       "      <td>4</td>\n",
       "      <td>0</td>\n",
       "      <td>1</td>\n",
       "      <td>0</td>\n",
       "      <td>0</td>\n",
       "      <td>(41.803422999999995, -87.642984)</td>\n",
       "    </tr>\n",
       "    <tr>\n",
       "      <th>2076</th>\n",
       "      <td>2007-08-16</td>\n",
       "      <td>12</td>\n",
       "      <td>S DOTY AVE</td>\n",
       "      <td>50</td>\n",
       "      <td>1</td>\n",
       "      <td>0</td>\n",
       "      <td>1</td>\n",
       "      <td>0</td>\n",
       "      <td>(41.673408, -87.599862)</td>\n",
       "    </tr>\n",
       "    <tr>\n",
       "      <th>3574</th>\n",
       "      <td>2007-09-24</td>\n",
       "      <td>58</td>\n",
       "      <td>N PULASKI RD</td>\n",
       "      <td>1</td>\n",
       "      <td>0</td>\n",
       "      <td>0</td>\n",
       "      <td>0</td>\n",
       "      <td>0</td>\n",
       "      <td>(41.984809000000006, -87.728492)</td>\n",
       "    </tr>\n",
       "    <tr>\n",
       "      <th>3427</th>\n",
       "      <td>2007-09-24</td>\n",
       "      <td>22</td>\n",
       "      <td>W 89TH ST</td>\n",
       "      <td>50</td>\n",
       "      <td>0</td>\n",
       "      <td>0</td>\n",
       "      <td>1</td>\n",
       "      <td>0</td>\n",
       "      <td>(41.731922, -87.677512)</td>\n",
       "    </tr>\n",
       "    <tr>\n",
       "      <th>3932</th>\n",
       "      <td>2009-06-02</td>\n",
       "      <td>35</td>\n",
       "      <td>W 51ST ST</td>\n",
       "      <td>3</td>\n",
       "      <td>0</td>\n",
       "      <td>1</td>\n",
       "      <td>0</td>\n",
       "      <td>0</td>\n",
       "      <td>(41.800737, -87.71188000000001)</td>\n",
       "    </tr>\n",
       "  </tbody>\n",
       "</table>\n",
       "</div>"
      ],
      "text/plain": [
       "           Date  Block         Street  NumMosquitos  WnvPresent  MIX  PIPIENS  \\\n",
       "4526 2009-07-06     50    S UNION AVE             4           0    1        0   \n",
       "2076 2007-08-16     12     S DOTY AVE            50           1    0        1   \n",
       "3574 2007-09-24     58   N PULASKI RD             1           0    0        0   \n",
       "3427 2007-09-24     22      W 89TH ST            50           0    0        1   \n",
       "3932 2009-06-02     35      W 51ST ST             3           0    1        0   \n",
       "\n",
       "      RESTUANS                          Location  \n",
       "4526         0  (41.803422999999995, -87.642984)  \n",
       "2076         0           (41.673408, -87.599862)  \n",
       "3574         0  (41.984809000000006, -87.728492)  \n",
       "3427         0           (41.731922, -87.677512)  \n",
       "3932         0   (41.800737, -87.71188000000001)  "
      ]
     },
     "execution_count": 15,
     "metadata": {},
     "output_type": "execute_result"
    }
   ],
   "source": [
    "train.head()"
   ]
  },
  {
   "cell_type": "markdown",
   "metadata": {},
   "source": [
    "# B. Get distance to the nearest location where standing water complaint ever filed"
   ]
  },
  {
   "cell_type": "code",
   "execution_count": 16,
   "metadata": {},
   "outputs": [],
   "source": [
    "def measure_to_standing(input_location):\n",
    "    distances=[]\n",
    "    for standing_spot_location in standing:\n",
    "        standing_spot_distance=haversine(standing_spot_location, input_location)\n",
    "        distances+=[standing_spot_distance]\n",
    "    return min(distances)\n",
    "        \n",
    "\n",
    "train['dist_to_standing_water']=train['Location'].map(measure_to_standing)\n",
    "\n",
    "\n",
    "                                                      "
   ]
  },
  {
   "cell_type": "code",
   "execution_count": 17,
   "metadata": {},
   "outputs": [],
   "source": [
    "test['dist_to_standing_water']=test['Location'].map(measure_to_standing)\n"
   ]
  },
  {
   "cell_type": "code",
   "execution_count": 18,
   "metadata": {},
   "outputs": [],
   "source": [
    "prediction_data['dist_to_standing_water']=prediction_data['Location'].map(measure_to_standing)\n"
   ]
  },
  {
   "cell_type": "code",
   "execution_count": 19,
   "metadata": {},
   "outputs": [],
   "source": [
    "train.to_csv('./assets/train_step1')\n",
    "test.to_csv('./assets/test_step1')\n",
    "prediction_data.to_csv('./assets/prediction_step1')"
   ]
  },
  {
   "cell_type": "code",
   "execution_count": null,
   "metadata": {},
   "outputs": [],
   "source": []
  }
 ],
 "metadata": {
  "kernelspec": {
   "display_name": "Python 3",
   "language": "python",
   "name": "python3"
  },
  "language_info": {
   "codemirror_mode": {
    "name": "ipython",
    "version": 3
   },
   "file_extension": ".py",
   "mimetype": "text/x-python",
   "name": "python",
   "nbconvert_exporter": "python",
   "pygments_lexer": "ipython3",
   "version": "3.6.5"
  }
 },
 "nbformat": 4,
 "nbformat_minor": 2
}
