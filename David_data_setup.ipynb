{
 "cells": [
  {
   "cell_type": "code",
   "execution_count": 1,
   "metadata": {},
   "outputs": [],
   "source": [
    "import pandas as pd\n",
    "import numpy as np\n",
    "import matplotlib.pyplot as plt\n",
    "import seaborn as sns\n",
    "from haversine import haversine\n",
    "from sklearn.model_selection import train_test_split\n",
    "np.random.seed(42)\n",
    "import scipy.stats as stats\n",
    "import seaborn as sns\n",
    "from datetime import timedelta  \n",
    "\n",
    "from matplotlib import rcParams\n",
    "rcParams.update({'figure.autolayout':True})\n",
    "\n",
    "plt.style.use([\"presentation\"])\n",
    "\n",
    "%matplotlib inline"
   ]
  },
  {
   "cell_type": "code",
   "execution_count": 2,
   "metadata": {},
   "outputs": [],
   "source": [
    "prediction_data=pd.read_csv('./assets/test.csv')"
   ]
  },
  {
   "cell_type": "code",
   "execution_count": 3,
   "metadata": {},
   "outputs": [],
   "source": [
    "working_data=pd.read_csv('./assets/train.csv')"
   ]
  },
  {
   "cell_type": "code",
   "execution_count": 4,
   "metadata": {},
   "outputs": [],
   "source": [
    "NOAA=pd.read_csv('./assets/weather.csv')"
   ]
  },
  {
   "cell_type": "code",
   "execution_count": 5,
   "metadata": {},
   "outputs": [],
   "source": [
    "spray=pd.read_csv('./assets/spray.csv')"
   ]
  },
  {
   "cell_type": "code",
   "execution_count": 6,
   "metadata": {},
   "outputs": [],
   "source": [
    "standing=pd.read_csv('./extra_data/Sanitation_Revised.csv')"
   ]
  },
  {
   "cell_type": "markdown",
   "metadata": {},
   "source": [
    "# A. Data QA/Cleaning"
   ]
  },
  {
   "cell_type": "code",
   "execution_count": 7,
   "metadata": {},
   "outputs": [],
   "source": [
    "# Train-test split\n",
    "train, test=train_test_split(working_data, test_size=.20, random_state=523)"
   ]
  },
  {
   "cell_type": "code",
   "execution_count": 8,
   "metadata": {},
   "outputs": [
    {
     "data": {
      "text/plain": [
       "Species\n",
       "CULEX PIPIENS             0.085952\n",
       "CULEX PIPIENS/RESTUANS    0.054068\n",
       "CULEX RESTUANS            0.016988\n",
       "CULEX SALINARIUS          0.000000\n",
       "CULEX TARSALIS            0.000000\n",
       "CULEX TERRITANS           0.000000\n",
       "Name: WnvPresent, dtype: float64"
      ]
     },
     "execution_count": 8,
     "metadata": {},
     "output_type": "execute_result"
    }
   ],
   "source": [
    "# Only two species carry west nile virus\n",
    "\n",
    "train.groupby(by='Species')['WnvPresent'].mean()"
   ]
  },
  {
   "cell_type": "code",
   "execution_count": 9,
   "metadata": {},
   "outputs": [],
   "source": [
    "# Copy the train and test datafarmes so that I don't get annoying error messages about\n",
    "# altering dataframe slices\n",
    "\n",
    "train=train.copy()\n",
    "test=test.copy()"
   ]
  },
  {
   "cell_type": "code",
   "execution_count": 10,
   "metadata": {},
   "outputs": [],
   "source": [
    "# Make dummies, and convert lat/lon to a single tuple.  Drop fields we don't need.\n",
    "\n",
    "def clean(df):\n",
    "    df['Date']=pd.to_datetime(df['Date'])\n",
    "    \n",
    "    def mapping(x):\n",
    "        if x == 'CULEX PIPIENS':\n",
    "            return 'PIPIENS'\n",
    "        elif x == 'CULEX PIPIENS/RESTUANS':\n",
    "            return 'MIX'\n",
    "        elif x == 'CULEX RESTUANS':\n",
    "            return 'RESTUANS'\n",
    "        else:\n",
    "            return 'OTHER'\n",
    "    \n",
    "    df['Species']=df['Species'].map(mapping)\n",
    "    \n",
    "    dummies=pd.get_dummies(df['Species']).drop(['OTHER'], axis=1)\n",
    "    df=pd.concat([df, dummies], axis=1)\n",
    "    df['Location']=list(zip(df['Latitude'],df['Longitude']))\n",
    "    df=df.drop(['Address', 'Latitude', 'Longitude', 'Trap', \n",
    "                'AddressNumberAndStreet', 'AddressAccuracy','Species'], axis=1)\n",
    "                    \n",
    "    return df"
   ]
  },
  {
   "cell_type": "code",
   "execution_count": 11,
   "metadata": {},
   "outputs": [],
   "source": [
    "# Apply pre-processing\n",
    "\n",
    "train=clean(train)\n",
    "test=clean(test)\n",
    "prediction_data=clean(prediction_data)"
   ]
  },
  {
   "cell_type": "code",
   "execution_count": 12,
   "metadata": {},
   "outputs": [],
   "source": [
    "# Some pre-processing of the standing water data\n",
    "\n",
    "standing['Coord']=list(zip(standing['Latitude'], standing['Longitude']))"
   ]
  },
  {
   "cell_type": "code",
   "execution_count": 13,
   "metadata": {},
   "outputs": [],
   "source": [
    "standing=standing['Coord'].dropna()"
   ]
  },
  {
   "cell_type": "markdown",
   "metadata": {},
   "source": [
    "# A. Get recent weather data"
   ]
  },
  {
   "cell_type": "code",
   "execution_count": 10,
   "metadata": {},
   "outputs": [],
   "source": [
    "# Convert the dates to datetime format\n",
    "NOAA['Date'] = pd.to_datetime(NOAA['Date'])"
   ]
  },
  {
   "cell_type": "code",
   "execution_count": 11,
   "metadata": {},
   "outputs": [],
   "source": [
    "# Get rid of all station 2 input\n",
    "NOAA = NOAA[NOAA['Station'] == 1]"
   ]
  },
  {
   "cell_type": "code",
   "execution_count": 12,
   "metadata": {},
   "outputs": [],
   "source": [
    "#changing the values 'M' values to the straight average in 'Tavg'\n",
    "new_vals = []\n",
    "\n",
    "for i, x in enumerate(NOAA['Tavg']):\n",
    "    if x == 'M':\n",
    "        avg = (NOAA['Tmax'].loc[i] + NOAA['Tmin'].loc[i]) / 2\n",
    "        new_vals.append(avg)\n",
    "    else:\n",
    "        new_vals.append(x)\n",
    "        \n",
    "NOAA['Tavg'] = new_vals\n",
    "NOAA['Tavg'] = NOAA['Tavg'].astype(int)"
   ]
  },
  {
   "cell_type": "code",
   "execution_count": 13,
   "metadata": {},
   "outputs": [],
   "source": [
    "#Changing the 'T' for trace rain to a quantity of 0.001, forward filling 'M' values\n",
    "NOAA['PrecipTotal'] = NOAA['PrecipTotal'].apply(lambda x: 0.001 if x == '  T' \n",
    "                                                      else x).replace('M', np.nan).fillna(method='ffill').astype(float)\n"
   ]
  },
  {
   "cell_type": "code",
   "execution_count": 15,
   "metadata": {},
   "outputs": [],
   "source": [
    "NOAA.to_pickle('./assets/NOAA')"
   ]
  },
  {
   "cell_type": "code",
   "execution_count": 20,
   "metadata": {},
   "outputs": [],
   "source": [
    "# The complete life cycle of mosquitos is ~ 14 days.\n",
    "\n",
    "# SOURCE = https://biocyclopedia.com/index/biotechnology_methods/cell_biology_and_genetics/life_cycle_of_the_mosquito_culex_pipiens.php"
   ]
  },
  {
   "cell_type": "code",
   "execution_count": 21,
   "metadata": {},
   "outputs": [],
   "source": [
    "def measure_recent_temps(A):\n",
    "    return NOAA.loc[(NOAA['Date']>(A-timedelta(days=14)))&(NOAA['Date']<=A)]['Tavg'].mean()"
   ]
  },
  {
   "cell_type": "code",
   "execution_count": 22,
   "metadata": {},
   "outputs": [],
   "source": [
    "def min_recent_temps(A):\n",
    "    return NOAA.loc[(NOAA['Date']>(A-timedelta(days=14)))&(NOAA['Date']<=A)]['Tavg'].min()"
   ]
  },
  {
   "cell_type": "code",
   "execution_count": 23,
   "metadata": {},
   "outputs": [],
   "source": [
    "def measure_recent_precip(A):\n",
    "    return NOAA.loc[(NOAA['Date']>(A-timedelta(days=14)))&(NOAA['Date']<=A)]['PrecipTotal'].sum()"
   ]
  },
  {
   "cell_type": "code",
   "execution_count": 24,
   "metadata": {},
   "outputs": [],
   "source": [
    "train['recent_temps']=train['Date'].map(measure_recent_temps)\n",
    "train['min_recent_temps']=train['Date'].map(min_recent_temps)"
   ]
  },
  {
   "cell_type": "code",
   "execution_count": 25,
   "metadata": {},
   "outputs": [],
   "source": [
    "test['recent_temps']=test['Date'].map(measure_recent_temps)\n",
    "test['min_recent_temps']=test['Date'].map(min_recent_temps)"
   ]
  },
  {
   "cell_type": "code",
   "execution_count": 26,
   "metadata": {},
   "outputs": [],
   "source": [
    "prediction_data['recent_temps']=prediction_data['Date'].map(measure_recent_temps)\n",
    "prediction_data['min_recent_temps']=prediction_data['Date'].map(min_recent_temps)"
   ]
  },
  {
   "cell_type": "code",
   "execution_count": 27,
   "metadata": {},
   "outputs": [],
   "source": [
    "train['recent_precip']=train['Date'].map(measure_recent_precip)\n"
   ]
  },
  {
   "cell_type": "code",
   "execution_count": 28,
   "metadata": {},
   "outputs": [],
   "source": [
    "test['recent_precip']=test['Date'].map(measure_recent_precip)"
   ]
  },
  {
   "cell_type": "code",
   "execution_count": 29,
   "metadata": {},
   "outputs": [],
   "source": [
    "prediction_data['recent_precip']=prediction_data['Date'].map(measure_recent_precip)"
   ]
  },
  {
   "cell_type": "markdown",
   "metadata": {},
   "source": [
    "# B. Get distance to the nearest location where standing water complaint ever filed"
   ]
  },
  {
   "cell_type": "code",
   "execution_count": 30,
   "metadata": {},
   "outputs": [],
   "source": [
    "def measure_to_standing(input_location):\n",
    "    distances=[]\n",
    "    for standing_spot_location in standing:\n",
    "        standing_spot_distance=haversine(standing_spot_location, input_location)\n",
    "        distances+=[standing_spot_distance]\n",
    "    return min(distances)\n",
    "        \n",
    "\n",
    "train['dist_to_standing_water']=train['Location'].map(measure_to_standing)\n",
    "\n",
    "\n",
    "                                                      "
   ]
  },
  {
   "cell_type": "code",
   "execution_count": 31,
   "metadata": {},
   "outputs": [],
   "source": [
    "test['dist_to_standing_water']=test['Location'].map(measure_to_standing)\n"
   ]
  },
  {
   "cell_type": "code",
   "execution_count": 32,
   "metadata": {},
   "outputs": [],
   "source": [
    "prediction_data['dist_to_standing_water']=prediction_data['Location'].map(measure_to_standing)\n"
   ]
  },
  {
   "cell_type": "markdown",
   "metadata": {},
   "source": [
    "# C. Measure distance to nearest place where pesticide was sprayed in 2011 or 2013 (assuming these are customary spray sites)."
   ]
  },
  {
   "cell_type": "code",
   "execution_count": 97,
   "metadata": {},
   "outputs": [],
   "source": [
    "# Rounding off the latititudes and longitudes to aid in de-duplicating\n",
    "\n",
    "spray['Latitude']=round(spray['Latitude'],3)\n",
    "spray['Longitude']=round(spray['Longitude'],3)"
   ]
  },
  {
   "cell_type": "code",
   "execution_count": 98,
   "metadata": {},
   "outputs": [],
   "source": [
    "# Convert the coordinates to a single tuple\n",
    "\n",
    "spray['Coord']=list(zip(spray['Latitude'], spray['Longitude']))\n",
    "spray=spray.dropna()"
   ]
  },
  {
   "cell_type": "code",
   "execution_count": 99,
   "metadata": {},
   "outputs": [],
   "source": [
    "# Drop duplicates\n",
    "spray=spray.drop_duplicates(['Coord'])"
   ]
  },
  {
   "cell_type": "code",
   "execution_count": 100,
   "metadata": {},
   "outputs": [],
   "source": [
    "# Take a random sample to speed up calculation\n",
    "\n",
    "spray=spray.sample(2000)"
   ]
  },
  {
   "cell_type": "code",
   "execution_count": 101,
   "metadata": {},
   "outputs": [],
   "source": [
    "spray=spray['Coord']"
   ]
  },
  {
   "cell_type": "code",
   "execution_count": 102,
   "metadata": {},
   "outputs": [],
   "source": [
    "def measure_to_spray(input_location):\n",
    "    distances=[]\n",
    "    for spray_spot_location in spray:\n",
    "        spray_spot_distance=haversine(spray_spot_location, input_location)\n",
    "        distances+=[spray_spot_distance]\n",
    "    return min(distances)"
   ]
  },
  {
   "cell_type": "code",
   "execution_count": 103,
   "metadata": {},
   "outputs": [],
   "source": [
    "train['dist_to_spray']=train['Location'].map(measure_to_spray)"
   ]
  },
  {
   "cell_type": "code",
   "execution_count": 104,
   "metadata": {},
   "outputs": [],
   "source": [
    "test['dist_to_spray']=test['Location'].map(measure_to_spray)"
   ]
  },
  {
   "cell_type": "code",
   "execution_count": 105,
   "metadata": {},
   "outputs": [],
   "source": [
    "prediction_data['dist_to_spray']=prediction_data['Location'].map(measure_to_spray)"
   ]
  },
  {
   "cell_type": "code",
   "execution_count": 115,
   "metadata": {},
   "outputs": [],
   "source": [
    "\n",
    "\n",
    "train.to_pickle('./assets/train_step1')\n",
    "test.to_pickle('./assets/test_step1')\n",
    "prediction_data.to_pickle('./assets/prediction_step1')"
   ]
  },
  {
   "cell_type": "markdown",
   "metadata": {},
   "source": [
    "# D. Check out the distributions of our key metrics"
   ]
  },
  {
   "cell_type": "code",
   "execution_count": 116,
   "metadata": {},
   "outputs": [
    {
     "data": {
      "text/html": [
       "<div>\n",
       "<style scoped>\n",
       "    .dataframe tbody tr th:only-of-type {\n",
       "        vertical-align: middle;\n",
       "    }\n",
       "\n",
       "    .dataframe tbody tr th {\n",
       "        vertical-align: top;\n",
       "    }\n",
       "\n",
       "    .dataframe thead th {\n",
       "        text-align: right;\n",
       "    }\n",
       "</style>\n",
       "<table border=\"1\" class=\"dataframe\">\n",
       "  <thead>\n",
       "    <tr style=\"text-align: right;\">\n",
       "      <th></th>\n",
       "      <th>Date</th>\n",
       "      <th>Block</th>\n",
       "      <th>Street</th>\n",
       "      <th>NumMosquitos</th>\n",
       "      <th>WnvPresent</th>\n",
       "      <th>MIX</th>\n",
       "      <th>PIPIENS</th>\n",
       "      <th>RESTUANS</th>\n",
       "      <th>Location</th>\n",
       "      <th>recent_temps</th>\n",
       "      <th>min_recent_temps</th>\n",
       "      <th>recent_precip</th>\n",
       "      <th>dist_to_standing_water</th>\n",
       "      <th>dist_to_spray</th>\n",
       "    </tr>\n",
       "  </thead>\n",
       "  <tbody>\n",
       "    <tr>\n",
       "      <th>4526</th>\n",
       "      <td>2009-07-06</td>\n",
       "      <td>50</td>\n",
       "      <td>S UNION AVE</td>\n",
       "      <td>4</td>\n",
       "      <td>0</td>\n",
       "      <td>1</td>\n",
       "      <td>0</td>\n",
       "      <td>0</td>\n",
       "      <td>(41.803422999999995, -87.642984)</td>\n",
       "      <td>72.785714</td>\n",
       "      <td>61</td>\n",
       "      <td>0.592</td>\n",
       "      <td>0.204493</td>\n",
       "      <td>4.774018</td>\n",
       "    </tr>\n",
       "    <tr>\n",
       "      <th>2076</th>\n",
       "      <td>2007-08-16</td>\n",
       "      <td>12</td>\n",
       "      <td>S DOTY AVE</td>\n",
       "      <td>50</td>\n",
       "      <td>1</td>\n",
       "      <td>0</td>\n",
       "      <td>1</td>\n",
       "      <td>0</td>\n",
       "      <td>(41.673408, -87.599862)</td>\n",
       "      <td>77.214286</td>\n",
       "      <td>71</td>\n",
       "      <td>4.070</td>\n",
       "      <td>1.499085</td>\n",
       "      <td>4.632153</td>\n",
       "    </tr>\n",
       "    <tr>\n",
       "      <th>3574</th>\n",
       "      <td>2007-09-24</td>\n",
       "      <td>58</td>\n",
       "      <td>N PULASKI RD</td>\n",
       "      <td>1</td>\n",
       "      <td>0</td>\n",
       "      <td>0</td>\n",
       "      <td>0</td>\n",
       "      <td>0</td>\n",
       "      <td>(41.984809000000006, -87.728492)</td>\n",
       "      <td>65.500000</td>\n",
       "      <td>50</td>\n",
       "      <td>0.001</td>\n",
       "      <td>1.040195</td>\n",
       "      <td>1.873140</td>\n",
       "    </tr>\n",
       "    <tr>\n",
       "      <th>3427</th>\n",
       "      <td>2007-09-24</td>\n",
       "      <td>22</td>\n",
       "      <td>W 89TH ST</td>\n",
       "      <td>50</td>\n",
       "      <td>0</td>\n",
       "      <td>0</td>\n",
       "      <td>1</td>\n",
       "      <td>0</td>\n",
       "      <td>(41.731922, -87.677512)</td>\n",
       "      <td>65.500000</td>\n",
       "      <td>50</td>\n",
       "      <td>0.001</td>\n",
       "      <td>1.110843</td>\n",
       "      <td>0.571260</td>\n",
       "    </tr>\n",
       "    <tr>\n",
       "      <th>3932</th>\n",
       "      <td>2009-06-02</td>\n",
       "      <td>35</td>\n",
       "      <td>W 51ST ST</td>\n",
       "      <td>3</td>\n",
       "      <td>0</td>\n",
       "      <td>1</td>\n",
       "      <td>0</td>\n",
       "      <td>0</td>\n",
       "      <td>(41.800737, -87.71188000000001)</td>\n",
       "      <td>63.285714</td>\n",
       "      <td>54</td>\n",
       "      <td>2.352</td>\n",
       "      <td>0.303958</td>\n",
       "      <td>1.641308</td>\n",
       "    </tr>\n",
       "  </tbody>\n",
       "</table>\n",
       "</div>"
      ],
      "text/plain": [
       "           Date  Block         Street  NumMosquitos  WnvPresent  MIX  PIPIENS  \\\n",
       "4526 2009-07-06     50    S UNION AVE             4           0    1        0   \n",
       "2076 2007-08-16     12     S DOTY AVE            50           1    0        1   \n",
       "3574 2007-09-24     58   N PULASKI RD             1           0    0        0   \n",
       "3427 2007-09-24     22      W 89TH ST            50           0    0        1   \n",
       "3932 2009-06-02     35      W 51ST ST             3           0    1        0   \n",
       "\n",
       "      RESTUANS                          Location  recent_temps  \\\n",
       "4526         0  (41.803422999999995, -87.642984)     72.785714   \n",
       "2076         0           (41.673408, -87.599862)     77.214286   \n",
       "3574         0  (41.984809000000006, -87.728492)     65.500000   \n",
       "3427         0           (41.731922, -87.677512)     65.500000   \n",
       "3932         0   (41.800737, -87.71188000000001)     63.285714   \n",
       "\n",
       "      min_recent_temps  recent_precip  dist_to_standing_water  dist_to_spray  \n",
       "4526                61          0.592                0.204493       4.774018  \n",
       "2076                71          4.070                1.499085       4.632153  \n",
       "3574                50          0.001                1.040195       1.873140  \n",
       "3427                50          0.001                1.110843       0.571260  \n",
       "3932                54          2.352                0.303958       1.641308  "
      ]
     },
     "execution_count": 116,
     "metadata": {},
     "output_type": "execute_result"
    }
   ],
   "source": [
    "train.head()"
   ]
  },
  {
   "cell_type": "code",
   "execution_count": 111,
   "metadata": {},
   "outputs": [
    {
     "data": {
      "text/plain": [
       "<matplotlib.axes._subplots.AxesSubplot at 0x1a23182828>"
      ]
     },
     "execution_count": 111,
     "metadata": {},
     "output_type": "execute_result"
    },
    {
     "name": "stderr",
     "output_type": "stream",
     "text": [
      "/anaconda3/envs/dsi/lib/python3.6/site-packages/matplotlib/figure.py:2267: UserWarning: This figure includes Axes that are not compatible with tight_layout, so results might be incorrect.\n",
      "  warnings.warn(\"This figure includes Axes that are not compatible \"\n"
     ]
    },
    {
     "data": {
      "image/png": "[encoded data removed]",
      "text/plain": [
       "<Figure size 432x288 with 1 Axes>"
      ]
     },
     "metadata": {},
     "output_type": "display_data"
    }
   ],
   "source": [
    "train['dist_to_spray'].hist(bins=20)"
   ]
  },
  {
   "cell_type": "code",
   "execution_count": 114,
   "metadata": {},
   "outputs": [
    {
     "data": {
      "text/plain": [
       "<matplotlib.axes._subplots.AxesSubplot at 0x1a2324f2b0>"
      ]
     },
     "execution_count": 114,
     "metadata": {},
     "output_type": "execute_result"
    },
    {
     "name": "stderr",
     "output_type": "stream",
     "text": [
      "/anaconda3/envs/dsi/lib/python3.6/site-packages/matplotlib/figure.py:2267: UserWarning: This figure includes Axes that are not compatible with tight_layout, so results might be incorrect.\n",
      "  warnings.warn(\"This figure includes Axes that are not compatible \"\n"
     ]
    },
    {
     "data": {
      "image/png": "[encoded data removed]",
      "text/plain": [
       "<Figure size 432x288 with 1 Axes>"
      ]
     },
     "metadata": {},
     "output_type": "display_data"
    }
   ],
   "source": [
    "train['dist_to_standing_water'].hist(bins=20)"
   ]
  },
  {
   "cell_type": "code",
   "execution_count": 118,
   "metadata": {},
   "outputs": [
    {
     "data": {
      "text/plain": [
       "<matplotlib.axes._subplots.AxesSubplot at 0x117852be0>"
      ]
     },
     "execution_count": 118,
     "metadata": {},
     "output_type": "execute_result"
    },
    {
     "name": "stderr",
     "output_type": "stream",
     "text": [
      "/anaconda3/envs/dsi/lib/python3.6/site-packages/matplotlib/figure.py:2267: UserWarning: This figure includes Axes that are not compatible with tight_layout, so results might be incorrect.\n",
      "  warnings.warn(\"This figure includes Axes that are not compatible \"\n"
     ]
    },
    {
     "data": {
      "image/png": "[encoded data removed]",
      "text/plain": [
       "<Figure size 432x288 with 1 Axes>"
      ]
     },
     "metadata": {},
     "output_type": "display_data"
    }
   ],
   "source": [
    "train['recent_temps'].hist(bins=10)"
   ]
  },
  {
   "cell_type": "code",
   "execution_count": 119,
   "metadata": {},
   "outputs": [
    {
     "data": {
      "text/plain": [
       "<matplotlib.axes._subplots.AxesSubplot at 0x1a19e37128>"
      ]
     },
     "execution_count": 119,
     "metadata": {},
     "output_type": "execute_result"
    },
    {
     "name": "stderr",
     "output_type": "stream",
     "text": [
      "/anaconda3/envs/dsi/lib/python3.6/site-packages/matplotlib/figure.py:2267: UserWarning: This figure includes Axes that are not compatible with tight_layout, so results might be incorrect.\n",
      "  warnings.warn(\"This figure includes Axes that are not compatible \"\n"
     ]
    },
    {
     "data": {
      "image/png": "[encoded data removed]",
      "text/plain": [
       "<Figure size 432x288 with 1 Axes>"
      ]
     },
     "metadata": {},
     "output_type": "display_data"
    }
   ],
   "source": [
    "train['min_recent_temps'].hist(bins=20)"
   ]
  },
  {
   "cell_type": "code",
   "execution_count": 121,
   "metadata": {},
   "outputs": [
    {
     "data": {
      "text/plain": [
       "<matplotlib.axes._subplots.AxesSubplot at 0x1a234ae320>"
      ]
     },
     "execution_count": 121,
     "metadata": {},
     "output_type": "execute_result"
    },
    {
     "name": "stderr",
     "output_type": "stream",
     "text": [
      "/anaconda3/envs/dsi/lib/python3.6/site-packages/matplotlib/figure.py:2267: UserWarning: This figure includes Axes that are not compatible with tight_layout, so results might be incorrect.\n",
      "  warnings.warn(\"This figure includes Axes that are not compatible \"\n"
     ]
    },
    {
     "data": {
      "image/png": "[encoded data removed]",
      "text/plain": [
       "<Figure size 432x288 with 1 Axes>"
      ]
     },
     "metadata": {},
     "output_type": "display_data"
    }
   ],
   "source": [
    "train['recent_precip'].hist(bins=20)"
   ]
  },
  {
   "cell_type": "markdown",
   "metadata": {},
   "source": [
    "# E. Make some sort of reasonable dummy variables for street. "
   ]
  },
  {
   "cell_type": "code",
   "execution_count": 148,
   "metadata": {},
   "outputs": [],
   "source": [
    "# Aggregate training data by street and look at the average number of WNV hits\n",
    "# on any particular street\n",
    "\n",
    "streets=train.groupby('Street')['WnvPresent'].mean()"
   ]
  },
  {
   "cell_type": "code",
   "execution_count": 149,
   "metadata": {},
   "outputs": [],
   "source": [
    "result=pd.DataFrame(streets)"
   ]
  },
  {
   "cell_type": "code",
   "execution_count": 150,
   "metadata": {},
   "outputs": [
    {
     "data": {
      "text/plain": [
       "WnvPresent    0.040881\n",
       "dtype: float64"
      ]
     },
     "execution_count": 150,
     "metadata": {},
     "output_type": "execute_result"
    }
   ],
   "source": [
    "# Average frequency of WNV on any given street\n",
    "\n",
    "result.mean()"
   ]
  },
  {
   "cell_type": "code",
   "execution_count": 151,
   "metadata": {},
   "outputs": [
    {
     "data": {
      "text/html": [
       "<div>\n",
       "<style scoped>\n",
       "    .dataframe tbody tr th:only-of-type {\n",
       "        vertical-align: middle;\n",
       "    }\n",
       "\n",
       "    .dataframe tbody tr th {\n",
       "        vertical-align: top;\n",
       "    }\n",
       "\n",
       "    .dataframe thead th {\n",
       "        text-align: right;\n",
       "    }\n",
       "</style>\n",
       "<table border=\"1\" class=\"dataframe\">\n",
       "  <thead>\n",
       "    <tr style=\"text-align: right;\">\n",
       "      <th></th>\n",
       "      <th>WnvPresent</th>\n",
       "    </tr>\n",
       "    <tr>\n",
       "      <th>Street</th>\n",
       "      <th></th>\n",
       "    </tr>\n",
       "  </thead>\n",
       "  <tbody>\n",
       "    <tr>\n",
       "      <th>N AVONDALE AVE</th>\n",
       "      <td>0.166667</td>\n",
       "    </tr>\n",
       "    <tr>\n",
       "      <th>W 65TH ST</th>\n",
       "      <td>0.134615</td>\n",
       "    </tr>\n",
       "    <tr>\n",
       "      <th>W STRONG ST</th>\n",
       "      <td>0.130435</td>\n",
       "    </tr>\n",
       "    <tr>\n",
       "      <th>S KOSTNER AVE</th>\n",
       "      <td>0.129870</td>\n",
       "    </tr>\n",
       "    <tr>\n",
       "      <th>N OAK PARK AVE</th>\n",
       "      <td>0.128834</td>\n",
       "    </tr>\n",
       "    <tr>\n",
       "      <th>W 89TH ST</th>\n",
       "      <td>0.117647</td>\n",
       "    </tr>\n",
       "    <tr>\n",
       "      <th>N LARAMIE AVE</th>\n",
       "      <td>0.115385</td>\n",
       "    </tr>\n",
       "    <tr>\n",
       "      <th>N LAWLER AVE</th>\n",
       "      <td>0.111111</td>\n",
       "    </tr>\n",
       "    <tr>\n",
       "      <th>N MILWAUKEE AVE</th>\n",
       "      <td>0.110000</td>\n",
       "    </tr>\n",
       "    <tr>\n",
       "      <th>N HARLEM AVE</th>\n",
       "      <td>0.108108</td>\n",
       "    </tr>\n",
       "  </tbody>\n",
       "</table>\n",
       "</div>"
      ],
      "text/plain": [
       "                  WnvPresent\n",
       "Street                      \n",
       " N AVONDALE AVE     0.166667\n",
       " W 65TH ST          0.134615\n",
       " W STRONG ST        0.130435\n",
       " S KOSTNER AVE      0.129870\n",
       " N OAK PARK AVE     0.128834\n",
       " W 89TH ST          0.117647\n",
       " N LARAMIE AVE      0.115385\n",
       " N LAWLER AVE       0.111111\n",
       " N MILWAUKEE AVE    0.110000\n",
       " N HARLEM AVE       0.108108"
      ]
     },
     "execution_count": 151,
     "metadata": {},
     "output_type": "execute_result"
    }
   ],
   "source": [
    "# This gives us the infection rate on each street\n",
    "\n",
    "result.sort_values(by='WnvPresent', ascending=False)[:10]"
   ]
  },
  {
   "cell_type": "code",
   "execution_count": 152,
   "metadata": {},
   "outputs": [],
   "source": [
    "# Calculate the square of the departure from the mean, for any particular street\n",
    "mymean=result['WnvPresent'].mean()\n",
    "result['dev']=np.abs((result['WnvPresent']-mymean))"
   ]
  },
  {
   "cell_type": "code",
   "execution_count": 155,
   "metadata": {},
   "outputs": [
    {
     "data": {
      "text/html": [
       "<div>\n",
       "<style scoped>\n",
       "    .dataframe tbody tr th:only-of-type {\n",
       "        vertical-align: middle;\n",
       "    }\n",
       "\n",
       "    .dataframe tbody tr th {\n",
       "        vertical-align: top;\n",
       "    }\n",
       "\n",
       "    .dataframe thead th {\n",
       "        text-align: right;\n",
       "    }\n",
       "</style>\n",
       "<table border=\"1\" class=\"dataframe\">\n",
       "  <thead>\n",
       "    <tr style=\"text-align: right;\">\n",
       "      <th></th>\n",
       "      <th>WnvPresent</th>\n",
       "      <th>dev</th>\n",
       "    </tr>\n",
       "    <tr>\n",
       "      <th>Street</th>\n",
       "      <th></th>\n",
       "      <th></th>\n",
       "    </tr>\n",
       "  </thead>\n",
       "  <tbody>\n",
       "    <tr>\n",
       "      <th>N AVONDALE AVE</th>\n",
       "      <td>0.166667</td>\n",
       "      <td>0.125786</td>\n",
       "    </tr>\n",
       "    <tr>\n",
       "      <th>W 65TH ST</th>\n",
       "      <td>0.134615</td>\n",
       "      <td>0.093735</td>\n",
       "    </tr>\n",
       "    <tr>\n",
       "      <th>W STRONG ST</th>\n",
       "      <td>0.130435</td>\n",
       "      <td>0.089554</td>\n",
       "    </tr>\n",
       "    <tr>\n",
       "      <th>S KOSTNER AVE</th>\n",
       "      <td>0.129870</td>\n",
       "      <td>0.088989</td>\n",
       "    </tr>\n",
       "    <tr>\n",
       "      <th>N OAK PARK AVE</th>\n",
       "      <td>0.128834</td>\n",
       "      <td>0.087954</td>\n",
       "    </tr>\n",
       "    <tr>\n",
       "      <th>W 89TH ST</th>\n",
       "      <td>0.117647</td>\n",
       "      <td>0.076766</td>\n",
       "    </tr>\n",
       "    <tr>\n",
       "      <th>N LARAMIE AVE</th>\n",
       "      <td>0.115385</td>\n",
       "      <td>0.074504</td>\n",
       "    </tr>\n",
       "    <tr>\n",
       "      <th>N LAWLER AVE</th>\n",
       "      <td>0.111111</td>\n",
       "      <td>0.070230</td>\n",
       "    </tr>\n",
       "    <tr>\n",
       "      <th>N MILWAUKEE AVE</th>\n",
       "      <td>0.110000</td>\n",
       "      <td>0.069119</td>\n",
       "    </tr>\n",
       "    <tr>\n",
       "      <th>N HARLEM AVE</th>\n",
       "      <td>0.108108</td>\n",
       "      <td>0.067227</td>\n",
       "    </tr>\n",
       "    <tr>\n",
       "      <th>W FOSTER AVE</th>\n",
       "      <td>0.107143</td>\n",
       "      <td>0.066262</td>\n",
       "    </tr>\n",
       "    <tr>\n",
       "      <th>N OKETO AVE</th>\n",
       "      <td>0.105263</td>\n",
       "      <td>0.064382</td>\n",
       "    </tr>\n",
       "    <tr>\n",
       "      <th>N MONT CLARE AVE</th>\n",
       "      <td>0.105263</td>\n",
       "      <td>0.064382</td>\n",
       "    </tr>\n",
       "    <tr>\n",
       "      <th>E 91ST ST</th>\n",
       "      <td>0.100000</td>\n",
       "      <td>0.059119</td>\n",
       "    </tr>\n",
       "    <tr>\n",
       "      <th>W FULLERTON AVE</th>\n",
       "      <td>0.100000</td>\n",
       "      <td>0.059119</td>\n",
       "    </tr>\n",
       "    <tr>\n",
       "      <th>N RIDGE AVE</th>\n",
       "      <td>0.100000</td>\n",
       "      <td>0.059119</td>\n",
       "    </tr>\n",
       "    <tr>\n",
       "      <th>N SPRINGFIELD AVE</th>\n",
       "      <td>0.094340</td>\n",
       "      <td>0.053459</td>\n",
       "    </tr>\n",
       "    <tr>\n",
       "      <th>W ROSCOE ST</th>\n",
       "      <td>0.090909</td>\n",
       "      <td>0.050028</td>\n",
       "    </tr>\n",
       "    <tr>\n",
       "      <th>E 115TH ST</th>\n",
       "      <td>0.088235</td>\n",
       "      <td>0.047354</td>\n",
       "    </tr>\n",
       "    <tr>\n",
       "      <th>S DEARBORN ST</th>\n",
       "      <td>0.085714</td>\n",
       "      <td>0.044833</td>\n",
       "    </tr>\n",
       "  </tbody>\n",
       "</table>\n",
       "</div>"
      ],
      "text/plain": [
       "                    WnvPresent       dev\n",
       "Street                                  \n",
       " N AVONDALE AVE       0.166667  0.125786\n",
       " W 65TH ST            0.134615  0.093735\n",
       " W STRONG ST          0.130435  0.089554\n",
       " S KOSTNER AVE        0.129870  0.088989\n",
       " N OAK PARK AVE       0.128834  0.087954\n",
       " W 89TH ST            0.117647  0.076766\n",
       " N LARAMIE AVE        0.115385  0.074504\n",
       " N LAWLER AVE         0.111111  0.070230\n",
       " N MILWAUKEE AVE      0.110000  0.069119\n",
       " N HARLEM AVE         0.108108  0.067227\n",
       " W FOSTER AVE         0.107143  0.066262\n",
       " N OKETO AVE          0.105263  0.064382\n",
       " N MONT CLARE AVE     0.105263  0.064382\n",
       " E 91ST ST            0.100000  0.059119\n",
       " W FULLERTON AVE      0.100000  0.059119\n",
       " N RIDGE AVE          0.100000  0.059119\n",
       " N SPRINGFIELD AVE    0.094340  0.053459\n",
       " W ROSCOE ST          0.090909  0.050028\n",
       " E 115TH ST           0.088235  0.047354\n",
       " S DEARBORN ST        0.085714  0.044833"
      ]
     },
     "execution_count": 155,
     "metadata": {},
     "output_type": "execute_result"
    }
   ],
   "source": [
    "result.sort_values(by='dev', ascending=False)[:20]"
   ]
  },
  {
   "cell_type": "code",
   "execution_count": 156,
   "metadata": {},
   "outputs": [],
   "source": [
    "result2=pd.DataFrame(train['Street'].value_counts())"
   ]
  },
  {
   "cell_type": "code",
   "execution_count": 157,
   "metadata": {},
   "outputs": [],
   "source": [
    "# This gives us the number of traps at each street\n",
    "\n",
    "result2=result2.rename(columns={'Street':'trap count'})"
   ]
  },
  {
   "cell_type": "code",
   "execution_count": 158,
   "metadata": {},
   "outputs": [],
   "source": [
    "result3=result.join(result2)"
   ]
  },
  {
   "cell_type": "code",
   "execution_count": 159,
   "metadata": {},
   "outputs": [
    {
     "data": {
      "text/html": [
       "<div>\n",
       "<style scoped>\n",
       "    .dataframe tbody tr th:only-of-type {\n",
       "        vertical-align: middle;\n",
       "    }\n",
       "\n",
       "    .dataframe tbody tr th {\n",
       "        vertical-align: top;\n",
       "    }\n",
       "\n",
       "    .dataframe thead th {\n",
       "        text-align: right;\n",
       "    }\n",
       "</style>\n",
       "<table border=\"1\" class=\"dataframe\">\n",
       "  <thead>\n",
       "    <tr style=\"text-align: right;\">\n",
       "      <th></th>\n",
       "      <th>WnvPresent</th>\n",
       "      <th>dev</th>\n",
       "      <th>trap count</th>\n",
       "    </tr>\n",
       "    <tr>\n",
       "      <th>Street</th>\n",
       "      <th></th>\n",
       "      <th></th>\n",
       "      <th></th>\n",
       "    </tr>\n",
       "  </thead>\n",
       "  <tbody>\n",
       "    <tr>\n",
       "      <th>W ARMITAGE AVENUE</th>\n",
       "      <td>0.046875</td>\n",
       "      <td>0.005994</td>\n",
       "      <td>128</td>\n",
       "    </tr>\n",
       "    <tr>\n",
       "      <th>E 105TH ST</th>\n",
       "      <td>0.068182</td>\n",
       "      <td>0.027301</td>\n",
       "      <td>132</td>\n",
       "    </tr>\n",
       "    <tr>\n",
       "      <th>E 111TH ST</th>\n",
       "      <td>0.000000</td>\n",
       "      <td>0.040881</td>\n",
       "      <td>18</td>\n",
       "    </tr>\n",
       "    <tr>\n",
       "      <th>E 115TH ST</th>\n",
       "      <td>0.088235</td>\n",
       "      <td>0.047354</td>\n",
       "      <td>34</td>\n",
       "    </tr>\n",
       "    <tr>\n",
       "      <th>E 118TH ST</th>\n",
       "      <td>0.008333</td>\n",
       "      <td>0.032547</td>\n",
       "      <td>120</td>\n",
       "    </tr>\n",
       "  </tbody>\n",
       "</table>\n",
       "</div>"
      ],
      "text/plain": [
       "                     WnvPresent       dev  trap count\n",
       "Street                                               \n",
       "  W ARMITAGE AVENUE    0.046875  0.005994         128\n",
       " E 105TH ST            0.068182  0.027301         132\n",
       " E 111TH ST            0.000000  0.040881          18\n",
       " E 115TH ST            0.088235  0.047354          34\n",
       " E 118TH ST            0.008333  0.032547         120"
      ]
     },
     "execution_count": 159,
     "metadata": {},
     "output_type": "execute_result"
    }
   ],
   "source": [
    "result3.head()"
   ]
  },
  {
   "cell_type": "code",
   "execution_count": 161,
   "metadata": {},
   "outputs": [],
   "source": [
    "result3['impact']=result3['dev']*result3['trap count']"
   ]
  },
  {
   "cell_type": "code",
   "execution_count": 181,
   "metadata": {},
   "outputs": [
    {
     "data": {
      "text/html": [
       "<div>\n",
       "<style scoped>\n",
       "    .dataframe tbody tr th:only-of-type {\n",
       "        vertical-align: middle;\n",
       "    }\n",
       "\n",
       "    .dataframe tbody tr th {\n",
       "        vertical-align: top;\n",
       "    }\n",
       "\n",
       "    .dataframe thead th {\n",
       "        text-align: right;\n",
       "    }\n",
       "</style>\n",
       "<table border=\"1\" class=\"dataframe\">\n",
       "  <thead>\n",
       "    <tr style=\"text-align: right;\">\n",
       "      <th></th>\n",
       "      <th>WnvPresent</th>\n",
       "      <th>dev</th>\n",
       "      <th>trap count</th>\n",
       "      <th>impact</th>\n",
       "    </tr>\n",
       "    <tr>\n",
       "      <th>Street</th>\n",
       "      <th></th>\n",
       "      <th></th>\n",
       "      <th></th>\n",
       "      <th></th>\n",
       "    </tr>\n",
       "  </thead>\n",
       "  <tbody>\n",
       "    <tr>\n",
       "      <th>W OHARE AIRPORT</th>\n",
       "      <td>0.083333</td>\n",
       "      <td>0.042453</td>\n",
       "      <td>600</td>\n",
       "      <td>25.471510</td>\n",
       "    </tr>\n",
       "    <tr>\n",
       "      <th>N OAK PARK AVE</th>\n",
       "      <td>0.128834</td>\n",
       "      <td>0.087954</td>\n",
       "      <td>163</td>\n",
       "      <td>14.336427</td>\n",
       "    </tr>\n",
       "    <tr>\n",
       "      <th>S DOTY AVE</th>\n",
       "      <td>0.067599</td>\n",
       "      <td>0.026718</td>\n",
       "      <td>429</td>\n",
       "      <td>11.462129</td>\n",
       "    </tr>\n",
       "    <tr>\n",
       "      <th>N MILWAUKEE AVE</th>\n",
       "      <td>0.110000</td>\n",
       "      <td>0.069119</td>\n",
       "      <td>100</td>\n",
       "      <td>6.911918</td>\n",
       "    </tr>\n",
       "    <tr>\n",
       "      <th>S KOSTNER AVE</th>\n",
       "      <td>0.129870</td>\n",
       "      <td>0.088989</td>\n",
       "      <td>77</td>\n",
       "      <td>6.852177</td>\n",
       "    </tr>\n",
       "    <tr>\n",
       "      <th>N PULASKI RD</th>\n",
       "      <td>0.080882</td>\n",
       "      <td>0.040002</td>\n",
       "      <td>136</td>\n",
       "      <td>5.440209</td>\n",
       "    </tr>\n",
       "    <tr>\n",
       "      <th>N MONT CLARE AVE</th>\n",
       "      <td>0.105263</td>\n",
       "      <td>0.064382</td>\n",
       "      <td>76</td>\n",
       "      <td>4.893058</td>\n",
       "    </tr>\n",
       "    <tr>\n",
       "      <th>W 65TH ST</th>\n",
       "      <td>0.134615</td>\n",
       "      <td>0.093735</td>\n",
       "      <td>52</td>\n",
       "      <td>4.874197</td>\n",
       "    </tr>\n",
       "    <tr>\n",
       "      <th>W FULLERTON AVE</th>\n",
       "      <td>0.100000</td>\n",
       "      <td>0.059119</td>\n",
       "      <td>80</td>\n",
       "      <td>4.729535</td>\n",
       "    </tr>\n",
       "    <tr>\n",
       "      <th>N WESTERN AVE</th>\n",
       "      <td>0.084906</td>\n",
       "      <td>0.044025</td>\n",
       "      <td>106</td>\n",
       "      <td>4.666633</td>\n",
       "    </tr>\n",
       "    <tr>\n",
       "      <th>N MOSELL AVE</th>\n",
       "      <td>0.076923</td>\n",
       "      <td>0.036042</td>\n",
       "      <td>117</td>\n",
       "      <td>4.216944</td>\n",
       "    </tr>\n",
       "    <tr>\n",
       "      <th>E 130TH ST</th>\n",
       "      <td>0.081633</td>\n",
       "      <td>0.040752</td>\n",
       "      <td>98</td>\n",
       "      <td>3.993680</td>\n",
       "    </tr>\n",
       "    <tr>\n",
       "      <th>E 118TH ST</th>\n",
       "      <td>0.008333</td>\n",
       "      <td>0.032547</td>\n",
       "      <td>120</td>\n",
       "      <td>3.905698</td>\n",
       "    </tr>\n",
       "    <tr>\n",
       "      <th>N LARAMIE AVE</th>\n",
       "      <td>0.115385</td>\n",
       "      <td>0.074504</td>\n",
       "      <td>52</td>\n",
       "      <td>3.874197</td>\n",
       "    </tr>\n",
       "    <tr>\n",
       "      <th>S COTTAGE GROVE</th>\n",
       "      <td>0.000000</td>\n",
       "      <td>0.040881</td>\n",
       "      <td>94</td>\n",
       "      <td>3.842797</td>\n",
       "    </tr>\n",
       "    <tr>\n",
       "      <th>N PITTSBURGH AVE</th>\n",
       "      <td>0.076923</td>\n",
       "      <td>0.036042</td>\n",
       "      <td>104</td>\n",
       "      <td>3.748395</td>\n",
       "    </tr>\n",
       "    <tr>\n",
       "      <th>W GRAND AVE</th>\n",
       "      <td>0.000000</td>\n",
       "      <td>0.040881</td>\n",
       "      <td>90</td>\n",
       "      <td>3.679274</td>\n",
       "    </tr>\n",
       "    <tr>\n",
       "      <th>N OKETO AVE</th>\n",
       "      <td>0.105263</td>\n",
       "      <td>0.064382</td>\n",
       "      <td>57</td>\n",
       "      <td>3.669793</td>\n",
       "    </tr>\n",
       "    <tr>\n",
       "      <th>E 105TH ST</th>\n",
       "      <td>0.068182</td>\n",
       "      <td>0.027301</td>\n",
       "      <td>132</td>\n",
       "      <td>3.603732</td>\n",
       "    </tr>\n",
       "    <tr>\n",
       "      <th>S TORRENCE AVE</th>\n",
       "      <td>0.009259</td>\n",
       "      <td>0.031622</td>\n",
       "      <td>108</td>\n",
       "      <td>3.415128</td>\n",
       "    </tr>\n",
       "    <tr>\n",
       "      <th>S BRANDON</th>\n",
       "      <td>0.009901</td>\n",
       "      <td>0.030980</td>\n",
       "      <td>101</td>\n",
       "      <td>3.128963</td>\n",
       "    </tr>\n",
       "    <tr>\n",
       "      <th>S EBERHART AVE</th>\n",
       "      <td>0.000000</td>\n",
       "      <td>0.040881</td>\n",
       "      <td>72</td>\n",
       "      <td>2.943419</td>\n",
       "    </tr>\n",
       "    <tr>\n",
       "      <th>S UNION AVE</th>\n",
       "      <td>0.078947</td>\n",
       "      <td>0.038067</td>\n",
       "      <td>76</td>\n",
       "      <td>2.893058</td>\n",
       "    </tr>\n",
       "    <tr>\n",
       "      <th>N CENTRAL PARK DR</th>\n",
       "      <td>0.069307</td>\n",
       "      <td>0.028426</td>\n",
       "      <td>101</td>\n",
       "      <td>2.871037</td>\n",
       "    </tr>\n",
       "    <tr>\n",
       "      <th>N SPRINGFIELD AVE</th>\n",
       "      <td>0.094340</td>\n",
       "      <td>0.053459</td>\n",
       "      <td>53</td>\n",
       "      <td>2.833317</td>\n",
       "    </tr>\n",
       "    <tr>\n",
       "      <th>W MONTROSE DR</th>\n",
       "      <td>0.000000</td>\n",
       "      <td>0.040881</td>\n",
       "      <td>66</td>\n",
       "      <td>2.698134</td>\n",
       "    </tr>\n",
       "    <tr>\n",
       "      <th>S SOUTH SHORE DR</th>\n",
       "      <td>0.000000</td>\n",
       "      <td>0.040881</td>\n",
       "      <td>65</td>\n",
       "      <td>2.657253</td>\n",
       "    </tr>\n",
       "    <tr>\n",
       "      <th>W 89TH ST</th>\n",
       "      <td>0.117647</td>\n",
       "      <td>0.076766</td>\n",
       "      <td>34</td>\n",
       "      <td>2.610052</td>\n",
       "    </tr>\n",
       "    <tr>\n",
       "      <th>N HARLEM AVE</th>\n",
       "      <td>0.108108</td>\n",
       "      <td>0.067227</td>\n",
       "      <td>37</td>\n",
       "      <td>2.487410</td>\n",
       "    </tr>\n",
       "    <tr>\n",
       "      <th>W 113TH ST</th>\n",
       "      <td>0.075758</td>\n",
       "      <td>0.034877</td>\n",
       "      <td>66</td>\n",
       "      <td>2.301866</td>\n",
       "    </tr>\n",
       "    <tr>\n",
       "      <th>W 18TH ST</th>\n",
       "      <td>0.000000</td>\n",
       "      <td>0.040881</td>\n",
       "      <td>56</td>\n",
       "      <td>2.289326</td>\n",
       "    </tr>\n",
       "    <tr>\n",
       "      <th>N AVONDALE AVE</th>\n",
       "      <td>0.166667</td>\n",
       "      <td>0.125786</td>\n",
       "      <td>18</td>\n",
       "      <td>2.264145</td>\n",
       "    </tr>\n",
       "    <tr>\n",
       "      <th>N OAKLEY AVE</th>\n",
       "      <td>0.000000</td>\n",
       "      <td>0.040881</td>\n",
       "      <td>55</td>\n",
       "      <td>2.248445</td>\n",
       "    </tr>\n",
       "    <tr>\n",
       "      <th>W GREENLEAF AVE</th>\n",
       "      <td>0.000000</td>\n",
       "      <td>0.040881</td>\n",
       "      <td>54</td>\n",
       "      <td>2.207564</td>\n",
       "    </tr>\n",
       "    <tr>\n",
       "      <th>S KOLMAR</th>\n",
       "      <td>0.059322</td>\n",
       "      <td>0.018441</td>\n",
       "      <td>118</td>\n",
       "      <td>2.176064</td>\n",
       "    </tr>\n",
       "    <tr>\n",
       "      <th>W STRONG ST</th>\n",
       "      <td>0.130435</td>\n",
       "      <td>0.089554</td>\n",
       "      <td>23</td>\n",
       "      <td>2.059741</td>\n",
       "    </tr>\n",
       "    <tr>\n",
       "      <th>W 51ST ST</th>\n",
       "      <td>0.054054</td>\n",
       "      <td>0.013173</td>\n",
       "      <td>148</td>\n",
       "      <td>1.949639</td>\n",
       "    </tr>\n",
       "    <tr>\n",
       "      <th>W CHICAGO</th>\n",
       "      <td>0.013889</td>\n",
       "      <td>0.026992</td>\n",
       "      <td>72</td>\n",
       "      <td>1.943419</td>\n",
       "    </tr>\n",
       "    <tr>\n",
       "      <th>W FOSTER AVE</th>\n",
       "      <td>0.107143</td>\n",
       "      <td>0.066262</td>\n",
       "      <td>28</td>\n",
       "      <td>1.855337</td>\n",
       "    </tr>\n",
       "    <tr>\n",
       "      <th>N ASHLAND AVE OVERPASS</th>\n",
       "      <td>0.014493</td>\n",
       "      <td>0.026388</td>\n",
       "      <td>69</td>\n",
       "      <td>1.820776</td>\n",
       "    </tr>\n",
       "  </tbody>\n",
       "</table>\n",
       "</div>"
      ],
      "text/plain": [
       "                         WnvPresent       dev  trap count     impact\n",
       "Street                                                              \n",
       " W OHARE AIRPORT           0.083333  0.042453         600  25.471510\n",
       " N OAK PARK AVE            0.128834  0.087954         163  14.336427\n",
       " S DOTY AVE                0.067599  0.026718         429  11.462129\n",
       " N MILWAUKEE AVE           0.110000  0.069119         100   6.911918\n",
       " S KOSTNER AVE             0.129870  0.088989          77   6.852177\n",
       " N PULASKI RD              0.080882  0.040002         136   5.440209\n",
       " N MONT CLARE AVE          0.105263  0.064382          76   4.893058\n",
       " W 65TH ST                 0.134615  0.093735          52   4.874197\n",
       " W FULLERTON AVE           0.100000  0.059119          80   4.729535\n",
       " N WESTERN AVE             0.084906  0.044025         106   4.666633\n",
       " N MOSELL AVE              0.076923  0.036042         117   4.216944\n",
       " E 130TH ST                0.081633  0.040752          98   3.993680\n",
       " E 118TH ST                0.008333  0.032547         120   3.905698\n",
       " N LARAMIE AVE             0.115385  0.074504          52   3.874197\n",
       " S COTTAGE GROVE           0.000000  0.040881          94   3.842797\n",
       " N PITTSBURGH AVE          0.076923  0.036042         104   3.748395\n",
       " W GRAND AVE               0.000000  0.040881          90   3.679274\n",
       " N OKETO AVE               0.105263  0.064382          57   3.669793\n",
       " E 105TH ST                0.068182  0.027301         132   3.603732\n",
       " S TORRENCE AVE            0.009259  0.031622         108   3.415128\n",
       " S BRANDON                 0.009901  0.030980         101   3.128963\n",
       " S EBERHART AVE            0.000000  0.040881          72   2.943419\n",
       " S UNION AVE               0.078947  0.038067          76   2.893058\n",
       " N CENTRAL PARK DR         0.069307  0.028426         101   2.871037\n",
       " N SPRINGFIELD AVE         0.094340  0.053459          53   2.833317\n",
       " W MONTROSE DR             0.000000  0.040881          66   2.698134\n",
       " S SOUTH SHORE DR          0.000000  0.040881          65   2.657253\n",
       " W 89TH ST                 0.117647  0.076766          34   2.610052\n",
       " N HARLEM AVE              0.108108  0.067227          37   2.487410\n",
       " W 113TH ST                0.075758  0.034877          66   2.301866\n",
       " W 18TH ST                 0.000000  0.040881          56   2.289326\n",
       " N AVONDALE AVE            0.166667  0.125786          18   2.264145\n",
       " N OAKLEY AVE              0.000000  0.040881          55   2.248445\n",
       " W GREENLEAF AVE           0.000000  0.040881          54   2.207564\n",
       " S KOLMAR                  0.059322  0.018441         118   2.176064\n",
       " W STRONG ST               0.130435  0.089554          23   2.059741\n",
       " W 51ST ST                 0.054054  0.013173         148   1.949639\n",
       " W CHICAGO                 0.013889  0.026992          72   1.943419\n",
       " W FOSTER AVE              0.107143  0.066262          28   1.855337\n",
       " N ASHLAND AVE OVERPASS    0.014493  0.026388          69   1.820776"
      ]
     },
     "execution_count": 181,
     "metadata": {},
     "output_type": "execute_result"
    }
   ],
   "source": [
    "# This gives us a table of the streets with the biggest impact for purposes of \n",
    "# prediciton.  Impact is defined as the deviation from mean # of bugs infected * \n",
    "#the number of traps present there.\n",
    "# Suggest dummifying the highest impact streets that have high WnvPresent and \n",
    "# ignoring the rest of the streets.\n",
    "\n",
    "result3.sort_values(by='impact', ascending=False)[:40]"
   ]
  },
  {
   "cell_type": "code",
   "execution_count": 182,
   "metadata": {},
   "outputs": [],
   "source": [
    "picklist=result3.sort_values(by='impact', ascending=False)[:40]"
   ]
  },
  {
   "cell_type": "code",
   "execution_count": 183,
   "metadata": {},
   "outputs": [
    {
     "data": {
      "text/plain": [
       "Index(['WnvPresent', 'dev', 'trap count', 'impact'], dtype='object')"
      ]
     },
     "execution_count": 183,
     "metadata": {},
     "output_type": "execute_result"
    }
   ],
   "source": [
    "picklist.columns"
   ]
  },
  {
   "cell_type": "code",
   "execution_count": 184,
   "metadata": {},
   "outputs": [],
   "source": [
    "important_streets=picklist.reset_index()['Street']"
   ]
  },
  {
   "cell_type": "code",
   "execution_count": 226,
   "metadata": {},
   "outputs": [],
   "source": [
    "train=pd.read_pickle('./assets/train_step1')\n",
    "test=pd.read_pickle('./assets/test_step1')\n",
    "prediction_data=pd.read_pickle('./assets/prediction_step1')"
   ]
  },
  {
   "cell_type": "code",
   "execution_count": 227,
   "metadata": {},
   "outputs": [],
   "source": [
    "def make_more_dummies(df, important_streets):\n",
    "    \n",
    "    # Get all the street dummies\n",
    "    street_dummies=pd.get_dummies(df['Street'])\n",
    "\n",
    "    # Only keep the dummies for the important streets\n",
    "    street_dummies=street_dummies[important_streets]\n",
    "\n",
    "    # Add dummies onto dataframe\n",
    "    df=pd.concat([df, street_dummies], axis=1)\n",
    "    \n",
    "    return df\n",
    "                                "
   ]
  },
  {
   "cell_type": "code",
   "execution_count": 228,
   "metadata": {},
   "outputs": [],
   "source": [
    "train=make_more_dummies(train, important_streets)\n",
    "test=make_more_dummies(test, important_streets)\n",
    "prediction_data=make_more_dummies(prediction_data, important_streets)"
   ]
  },
  {
   "cell_type": "code",
   "execution_count": 236,
   "metadata": {},
   "outputs": [],
   "source": [
    "\n",
    "train.to_pickle('./assets/train_step1')\n",
    "test.to_pickle('./assets/test_step1')\n",
    "prediction_data.to_pickle('./assets/prediction_step1')"
   ]
  },
  {
   "cell_type": "code",
   "execution_count": null,
   "metadata": {},
   "outputs": [],
   "source": []
  }
 ],
 "metadata": {
  "kernelspec": {
   "display_name": "Python 3",
   "language": "python",
   "name": "python3"
  },
  "language_info": {
   "codemirror_mode": {
    "name": "ipython",
    "version": 3
   },
   "file_extension": ".py",
   "mimetype": "text/x-python",
   "name": "python",
   "nbconvert_exporter": "python",
   "pygments_lexer": "ipython3",
   "version": "3.6.5"
  }
 },
 "nbformat": 4,
 "nbformat_minor": 2
}
