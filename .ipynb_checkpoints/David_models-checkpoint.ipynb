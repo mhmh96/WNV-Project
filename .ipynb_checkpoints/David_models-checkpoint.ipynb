{
 "cells": [
  {
   "cell_type": "code",
   "execution_count": 493,
   "metadata": {},
   "outputs": [],
   "source": [
    "import pandas as pd\n",
    "import numpy as np\n",
    "import matplotlib.pyplot as plt\n",
    "import seaborn as sns\n",
    "from haversine import haversine\n",
    "from sklearn.model_selection import train_test_split\n",
    "np.random.seed(42)\n",
    "import scipy.stats as stats\n",
    "import seaborn as sns\n",
    "\n",
    "from sklearn.preprocessing import StandardScaler\n",
    "\n",
    "\n",
    "\n",
    "from matplotlib import rcParams\n",
    "rcParams.update({'figure.autolayout':True})\n",
    "\n",
    "plt.style.use([\"presentation\"])\n",
    "\n",
    "%matplotlib inline"
   ]
  },
  {
   "cell_type": "code",
   "execution_count": 497,
   "metadata": {},
   "outputs": [
    {
     "name": "stderr",
     "output_type": "stream",
     "text": [
      "Using TensorFlow backend.\n"
     ]
    }
   ],
   "source": [
    "\n",
    "\n",
    "from sklearn.model_selection import train_test_split, GridSearchCV\n",
    "from sklearn.feature_extraction.text import CountVectorizer, TfidfTransformer, TfidfVectorizer\n",
    "from sklearn.linear_model import LogisticRegression, ElasticNet, Ridge, RidgeClassifier\n",
    "from sklearn.pipeline import Pipeline, FeatureUnion\n",
    "from sklearn.preprocessing import StandardScaler\n",
    "from sklearn.metrics import confusion_matrix, roc_auc_score\n",
    "from sklearn.naive_bayes import MultinomialNB\n",
    "from sklearn.ensemble import RandomForestClassifier, RandomForestRegressor, BaggingClassifier, BaggingRegressor, AdaBoostClassifier, AdaBoostRegressor\n",
    "from sklearn.metrics import roc_auc_score, mean_squared_error, confusion_matrix, f1_score\n",
    "from sklearn.neighbors import KNeighborsRegressor, KNeighborsClassifier\n",
    "from sklearn.tree import DecisionTreeRegressor, DecisionTreeClassifier, export_graphviz\n",
    "from sklearn import svm\n",
    "from keras.models import Sequential\n",
    "from keras.layers import Dense"
   ]
  },
  {
   "cell_type": "code",
   "execution_count": 3,
   "metadata": {},
   "outputs": [],
   "source": [
    "test=pd.read_pickle('./assets/test_step1')"
   ]
  },
  {
   "cell_type": "code",
   "execution_count": 4,
   "metadata": {},
   "outputs": [],
   "source": [
    "train=pd.read_pickle('./assets/train_step1')"
   ]
  },
  {
   "cell_type": "code",
   "execution_count": 5,
   "metadata": {},
   "outputs": [],
   "source": [
    "pred=pd.read_pickle('./assets/prediction_step1')"
   ]
  },
  {
   "cell_type": "code",
   "execution_count": 6,
   "metadata": {},
   "outputs": [],
   "source": [
    "test['day']=test['Date'].map(lambda x : x.dayofyear)\n",
    "train['day']=train['Date'].map(lambda x : x.dayofyear)\n",
    "pred['day']=pred['Date'].map(lambda x : x.dayofyear)\n"
   ]
  },
  {
   "cell_type": "markdown",
   "metadata": {},
   "source": [
    "# B. Bootstrap the WNV present data to generate balanced classes for training"
   ]
  },
  {
   "cell_type": "code",
   "execution_count": 8,
   "metadata": {},
   "outputs": [],
   "source": [
    "train_positive=train.loc[train['WnvPresent']==1]"
   ]
  },
  {
   "cell_type": "code",
   "execution_count": 9,
   "metadata": {},
   "outputs": [],
   "source": [
    "train_negative=train.loc[train['WnvPresent']==0]"
   ]
  },
  {
   "cell_type": "code",
   "execution_count": 10,
   "metadata": {},
   "outputs": [
    {
     "data": {
      "text/plain": [
       "(429, 55)"
      ]
     },
     "execution_count": 10,
     "metadata": {},
     "output_type": "execute_result"
    }
   ],
   "source": [
    "train_positive.shape"
   ]
  },
  {
   "cell_type": "code",
   "execution_count": 11,
   "metadata": {},
   "outputs": [
    {
     "data": {
      "text/plain": [
       "7546"
      ]
     },
     "execution_count": 11,
     "metadata": {},
     "output_type": "execute_result"
    }
   ],
   "source": [
    "# We have 7,975 samples that are negative.  We need 7,546 extra samples of positive data\n",
    "# to balance the training data\n",
    "\n",
    "train_negative.shape[0]-train_positive.shape[0]"
   ]
  },
  {
   "cell_type": "code",
   "execution_count": 12,
   "metadata": {},
   "outputs": [],
   "source": [
    "# Sample the negative data to get 7,546 extra samples of positive data\n",
    "\n",
    "train_positive_extra=train_positive.sample(n=7546, replace=True)"
   ]
  },
  {
   "cell_type": "code",
   "execution_count": 13,
   "metadata": {},
   "outputs": [],
   "source": [
    "# Concat the positive, negative, and extra negative rows\n",
    "\n",
    "train_oversample=pd.concat([train_positive, train_negative, train_positive_extra])"
   ]
  },
  {
   "cell_type": "code",
   "execution_count": 14,
   "metadata": {},
   "outputs": [],
   "source": [
    "# Shuffle the rows\n",
    "\n",
    "train_oversample=train_oversample.sample(frac=1)"
   ]
  },
  {
   "cell_type": "code",
   "execution_count": 15,
   "metadata": {},
   "outputs": [
    {
     "name": "stderr",
     "output_type": "stream",
     "text": [
      "/anaconda3/envs/dsi/lib/python3.6/site-packages/matplotlib/figure.py:2267: UserWarning: This figure includes Axes that are not compatible with tight_layout, so results might be incorrect.\n",
      "  warnings.warn(\"This figure includes Axes that are not compatible \"\n"
     ]
    },
    {
     "data": {
      "image/png": "[encoded data removed]",
      "text/plain": [
       "<Figure size 576x432 with 1 Axes>"
      ]
     },
     "metadata": {},
     "output_type": "display_data"
    }
   ],
   "source": [
    "figure, ax = plt.subplots(nrows=1, ncols=1, figsize=(8,6))\n",
    "\n",
    "train_oversample.loc[train_oversample['WnvPresent']==1]['day'].hist(bins=15, alpha=.3, density=True, label = 'WNV positive bugs', color='red')\n",
    "train_oversample.loc[train_oversample['WnvPresent']==0]['day'].hist(bins=15, alpha=.3, density=True, label = 'WNV negative bugs',)\n",
    "plt.legend(loc='upper right')\n",
    "ax.set_xlabel('Day of the Year')\n",
    "ax.set_ylabel('Fraction of Each Population')\n",
    "\n",
    "plt.savefig(\"./timing.png\")"
   ]
  },
  {
   "cell_type": "markdown",
   "metadata": {},
   "source": [
    "# C. Generate feature matrix and target vector"
   ]
  },
  {
   "cell_type": "code",
   "execution_count": 37,
   "metadata": {},
   "outputs": [],
   "source": [
    "y_train_o=train_oversample['WnvPresent'].values\n",
    "y_train=train['WnvPresent'].values\n",
    "y_test=test['WnvPresent'].values"
   ]
  },
  {
   "cell_type": "code",
   "execution_count": 512,
   "metadata": {},
   "outputs": [
    {
     "data": {
      "text/plain": [
       "\"\\n\\nfeatures= ['Block', 'day', 'MIX', 'PIPIENS', 'RESTUANS',\\n       'recent_temps', 'min_recent_temps', 'recent_precip',\\n       'dist_to_standing_water', 'dist_to_spray', ' W OHARE AIRPORT',\\n       ' N OAK PARK AVE', ' S DOTY AVE', ' N MILWAUKEE AVE', ' S KOSTNER AVE',\\n       ' N PULASKI RD', ' N MONT CLARE AVE', ' W 65TH ST', ' W FULLERTON AVE',\\n       ' N WESTERN AVE', ' N MOSELL AVE', ' E 130TH ST', ' E 118TH ST',\\n       ' N LARAMIE AVE', ' S COTTAGE GROVE', ' N PITTSBURGH AVE',\\n       ' W GRAND AVE', ' N OKETO AVE', ' E 105TH ST', ' S TORRENCE AVE',\\n       ' S BRANDON', ' S EBERHART AVE', ' S UNION AVE', ' N CENTRAL PARK DR',\\n       ' N SPRINGFIELD AVE', ' W MONTROSE DR', ' S SOUTH SHORE DR',\\n       ' W 89TH ST', ' N HARLEM AVE', ' W 113TH ST', ' W 18TH ST',\\n       ' N AVONDALE AVE', ' N OAKLEY AVE', ' W GREENLEAF AVE', ' S KOLMAR',\\n       ' W STRONG ST', ' W 51ST ST', ' W CHICAGO', ' W FOSTER AVE',\\n       ' N ASHLAND AVE OVERPASS']\\n       \\n\""
      ]
     },
     "execution_count": 512,
     "metadata": {},
     "output_type": "execute_result"
    }
   ],
   "source": [
    "# I've commented these out because I think that they're leading to overfitting\n",
    "\n",
    "\"\"\"\n",
    "\n",
    "features= ['Block', 'day', 'MIX', 'PIPIENS', 'RESTUANS',\n",
    "       'recent_temps', 'min_recent_temps', 'recent_precip',\n",
    "       'dist_to_standing_water', 'dist_to_spray', ' W OHARE AIRPORT',\n",
    "       ' N OAK PARK AVE', ' S DOTY AVE', ' N MILWAUKEE AVE', ' S KOSTNER AVE',\n",
    "       ' N PULASKI RD', ' N MONT CLARE AVE', ' W 65TH ST', ' W FULLERTON AVE',\n",
    "       ' N WESTERN AVE', ' N MOSELL AVE', ' E 130TH ST', ' E 118TH ST',\n",
    "       ' N LARAMIE AVE', ' S COTTAGE GROVE', ' N PITTSBURGH AVE',\n",
    "       ' W GRAND AVE', ' N OKETO AVE', ' E 105TH ST', ' S TORRENCE AVE',\n",
    "       ' S BRANDON', ' S EBERHART AVE', ' S UNION AVE', ' N CENTRAL PARK DR',\n",
    "       ' N SPRINGFIELD AVE', ' W MONTROSE DR', ' S SOUTH SHORE DR',\n",
    "       ' W 89TH ST', ' N HARLEM AVE', ' W 113TH ST', ' W 18TH ST',\n",
    "       ' N AVONDALE AVE', ' N OAKLEY AVE', ' W GREENLEAF AVE', ' S KOLMAR',\n",
    "       ' W STRONG ST', ' W 51ST ST', ' W CHICAGO', ' W FOSTER AVE',\n",
    "       ' N ASHLAND AVE OVERPASS']\n",
    "       \n",
    "\"\"\""
   ]
  },
  {
   "cell_type": "code",
   "execution_count": 513,
   "metadata": {},
   "outputs": [],
   "source": [
    "features=[ 'day', 'MIX', 'PIPIENS', 'RESTUANS',\n",
    "       'recent_temps', 'min_recent_temps', 'recent_precip',\n",
    "       'dist_to_standing_water', 'dist_to_spray', ' W OHARE AIRPORT',\n",
    "       ' N OAK PARK AVE', ' S DOTY AVE', ' N MILWAUKEE AVE', ' S KOSTNER AVE',\n",
    "       ' N PULASKI RD']"
   ]
  },
  {
   "cell_type": "code",
   "execution_count": 514,
   "metadata": {},
   "outputs": [],
   "source": [
    "# o means a feature matrix from an oversampled set\n",
    "\n",
    "\n",
    "X_train_o=train_oversample[features]\n",
    "X_train=train[features]\n",
    "X_test=test[features]\n",
    "X_pred=pred[features]\n"
   ]
  },
  {
   "cell_type": "markdown",
   "metadata": {},
   "source": [
    "# D. Try a Random Forest"
   ]
  },
  {
   "cell_type": "code",
   "execution_count": 515,
   "metadata": {},
   "outputs": [],
   "source": [
    "rf=RandomForestClassifier()"
   ]
  },
  {
   "cell_type": "code",
   "execution_count": 473,
   "metadata": {},
   "outputs": [],
   "source": [
    "hyperparameters={\n",
    "                'n_estimators': [100],\n",
    "                'max_depth': [20, 50, 100],\n",
    "                'min_samples_split': [20, 25, 30],\n",
    "                'class_weight': ['balanced']\n",
    "}\n",
    "                \n",
    "rfgrid = GridSearchCV(rf, hyperparameters, cv=3, scoring='f1')"
   ]
  },
  {
   "cell_type": "code",
   "execution_count": 474,
   "metadata": {},
   "outputs": [
    {
     "data": {
      "text/plain": [
       "GridSearchCV(cv=3, error_score='raise',\n",
       "       estimator=RandomForestClassifier(bootstrap=True, class_weight=None, criterion='gini',\n",
       "            max_depth=None, max_features='auto', max_leaf_nodes=None,\n",
       "            min_impurity_decrease=0.0, min_impurity_split=None,\n",
       "            min_samples_leaf=1, min_samples_split=2,\n",
       "            min_weight_fraction_leaf=0.0, n_estimators=10, n_jobs=1,\n",
       "            oob_score=False, random_state=None, verbose=0,\n",
       "            warm_start=False),\n",
       "       fit_params=None, iid=True, n_jobs=1,\n",
       "       param_grid={'n_estimators': [100], 'max_depth': [20, 50, 100], 'min_samples_split': [20, 25, 30], 'class_weight': ['balanced']},\n",
       "       pre_dispatch='2*n_jobs', refit=True, return_train_score='warn',\n",
       "       scoring='f1', verbose=0)"
      ]
     },
     "execution_count": 474,
     "metadata": {},
     "output_type": "execute_result"
    }
   ],
   "source": [
    "rfgrid.fit(X_train, y_train)"
   ]
  },
  {
   "cell_type": "code",
   "execution_count": 475,
   "metadata": {},
   "outputs": [
    {
     "data": {
      "text/plain": [
       "{'class_weight': 'balanced',\n",
       " 'max_depth': 100,\n",
       " 'min_samples_split': 30,\n",
       " 'n_estimators': 100}"
      ]
     },
     "execution_count": 475,
     "metadata": {},
     "output_type": "execute_result"
    }
   ],
   "source": [
    "rfgrid.best_params_"
   ]
  },
  {
   "cell_type": "code",
   "execution_count": 476,
   "metadata": {},
   "outputs": [
    {
     "data": {
      "text/plain": [
       "0.2767857142857143"
      ]
     },
     "execution_count": 476,
     "metadata": {},
     "output_type": "execute_result"
    }
   ],
   "source": [
    "rfgrid.score(X_test, y_test)"
   ]
  },
  {
   "cell_type": "code",
   "execution_count": 477,
   "metadata": {},
   "outputs": [
    {
     "data": {
      "text/plain": [
       "0.4356211003970505"
      ]
     },
     "execution_count": 477,
     "metadata": {},
     "output_type": "execute_result"
    }
   ],
   "source": [
    "rfgrid.score(X_train, y_train)"
   ]
  },
  {
   "cell_type": "markdown",
   "metadata": {},
   "source": [
    "## D.1 See what happens when you change the classification threshold"
   ]
  },
  {
   "cell_type": "code",
   "execution_count": 407,
   "metadata": {},
   "outputs": [],
   "source": [
    "def threshold_predict(model, threshold, inputvals):\n",
    "    return [1 if item[1]>threshold else 0 for item in model.predict_proba(inputvals)]"
   ]
  },
  {
   "cell_type": "code",
   "execution_count": 560,
   "metadata": {},
   "outputs": [],
   "source": [
    "def score_model (model, modelname, threshold, Xvals, yvals):\n",
    "    \n",
    "    y_predict=threshold_predict(model, threshold, Xvals)\n",
    "    \n",
    "    conf=confusion_matrix(yvals, y_predict)\n",
    "    \n",
    "    print (\"False Positive Rate\", conf[0][1]/(conf[0][1]+conf[0][0]))\n",
    "    \n",
    "    print (\"False Negative Rate\", conf[1][0]/(conf[1][0]+conf[1][1]))\n",
    "    \n",
    "    print (\"Accuracy\", (conf[1][1]+conf[0][0])/(conf[1][1]+conf[0][0]+conf[1][0]+conf[0][1]))\n",
    "    \n",
    "    print (\"ROC AUC Score\", roc_auc_score(y_test, y_predict))"
   ]
  },
  {
   "cell_type": "code",
   "execution_count": 561,
   "metadata": {},
   "outputs": [
    {
     "name": "stdout",
     "output_type": "stream",
     "text": [
      "False Positive Rate 0.4762626262626263\n",
      "False Negative Rate 0.07377049180327869\n",
      "Accuracy 0.5470980019029495\n",
      "ROC AUC Score 0.7249834409670476\n"
     ]
    }
   ],
   "source": [
    "score_model(rfgrid, \"Random Forest\", .1, X_test, y_test)"
   ]
  },
  {
   "cell_type": "code",
   "execution_count": 563,
   "metadata": {},
   "outputs": [
    {
     "name": "stdout",
     "output_type": "stream",
     "text": [
      "False Positive Rate 0.25252525252525254\n",
      "False Negative Rate 0.28688524590163933\n",
      "Accuracy 0.7454804947668887\n",
      "ROC AUC Score 0.7302947507865539\n"
     ]
    }
   ],
   "source": [
    "score_model(rfgrid, \"Random Forest\", .3, X_test, y_test)"
   ]
  },
  {
   "cell_type": "code",
   "execution_count": 564,
   "metadata": {},
   "outputs": [
    {
     "name": "stdout",
     "output_type": "stream",
     "text": [
      "False Positive Rate 0.18838383838383838\n",
      "False Negative Rate 0.3770491803278688\n",
      "Accuracy 0.8006660323501428\n",
      "ROC AUC Score 0.7172834906441464\n"
     ]
    }
   ],
   "source": [
    "score_model(rfgrid, \"Random Forest\", .4, X_test, y_test)"
   ]
  },
  {
   "cell_type": "markdown",
   "metadata": {},
   "source": [
    "## D.2. Find out what the Random Forest Model was focusing on"
   ]
  },
  {
   "cell_type": "code",
   "execution_count": 380,
   "metadata": {},
   "outputs": [],
   "source": [
    "importance=rfgrid.best_estimator_.feature_importances_"
   ]
  },
  {
   "cell_type": "code",
   "execution_count": 364,
   "metadata": {},
   "outputs": [
    {
     "data": {
      "text/plain": [
       "array([0.27169248, 0.02229706, 0.0264324 , 0.04491854, 0.16963307,\n",
       "       0.11045152, 0.09158868, 0.10709186, 0.11132807, 0.00919719,\n",
       "       0.00855913, 0.00831143, 0.0075906 , 0.006832  , 0.00407596])"
      ]
     },
     "execution_count": 364,
     "metadata": {},
     "output_type": "execute_result"
    }
   ],
   "source": [
    "importance"
   ]
  },
  {
   "cell_type": "code",
   "execution_count": 365,
   "metadata": {},
   "outputs": [],
   "source": [
    "explanation=pd.DataFrame({'features':features, 'importance':importance})"
   ]
  },
  {
   "cell_type": "code",
   "execution_count": 366,
   "metadata": {},
   "outputs": [
    {
     "data": {
      "text/html": [
       "<div>\n",
       "<style scoped>\n",
       "    .dataframe tbody tr th:only-of-type {\n",
       "        vertical-align: middle;\n",
       "    }\n",
       "\n",
       "    .dataframe tbody tr th {\n",
       "        vertical-align: top;\n",
       "    }\n",
       "\n",
       "    .dataframe thead th {\n",
       "        text-align: right;\n",
       "    }\n",
       "</style>\n",
       "<table border=\"1\" class=\"dataframe\">\n",
       "  <thead>\n",
       "    <tr style=\"text-align: right;\">\n",
       "      <th></th>\n",
       "      <th>features</th>\n",
       "      <th>importance</th>\n",
       "    </tr>\n",
       "  </thead>\n",
       "  <tbody>\n",
       "    <tr>\n",
       "      <th>14</th>\n",
       "      <td>N PULASKI RD</td>\n",
       "      <td>0.004076</td>\n",
       "    </tr>\n",
       "    <tr>\n",
       "      <th>13</th>\n",
       "      <td>S KOSTNER AVE</td>\n",
       "      <td>0.006832</td>\n",
       "    </tr>\n",
       "    <tr>\n",
       "      <th>12</th>\n",
       "      <td>N MILWAUKEE AVE</td>\n",
       "      <td>0.007591</td>\n",
       "    </tr>\n",
       "    <tr>\n",
       "      <th>11</th>\n",
       "      <td>S DOTY AVE</td>\n",
       "      <td>0.008311</td>\n",
       "    </tr>\n",
       "    <tr>\n",
       "      <th>10</th>\n",
       "      <td>N OAK PARK AVE</td>\n",
       "      <td>0.008559</td>\n",
       "    </tr>\n",
       "    <tr>\n",
       "      <th>9</th>\n",
       "      <td>W OHARE AIRPORT</td>\n",
       "      <td>0.009197</td>\n",
       "    </tr>\n",
       "    <tr>\n",
       "      <th>1</th>\n",
       "      <td>MIX</td>\n",
       "      <td>0.022297</td>\n",
       "    </tr>\n",
       "    <tr>\n",
       "      <th>2</th>\n",
       "      <td>PIPIENS</td>\n",
       "      <td>0.026432</td>\n",
       "    </tr>\n",
       "    <tr>\n",
       "      <th>3</th>\n",
       "      <td>RESTUANS</td>\n",
       "      <td>0.044919</td>\n",
       "    </tr>\n",
       "    <tr>\n",
       "      <th>6</th>\n",
       "      <td>recent_precip</td>\n",
       "      <td>0.091589</td>\n",
       "    </tr>\n",
       "    <tr>\n",
       "      <th>7</th>\n",
       "      <td>dist_to_standing_water</td>\n",
       "      <td>0.107092</td>\n",
       "    </tr>\n",
       "    <tr>\n",
       "      <th>5</th>\n",
       "      <td>min_recent_temps</td>\n",
       "      <td>0.110452</td>\n",
       "    </tr>\n",
       "    <tr>\n",
       "      <th>8</th>\n",
       "      <td>dist_to_spray</td>\n",
       "      <td>0.111328</td>\n",
       "    </tr>\n",
       "    <tr>\n",
       "      <th>4</th>\n",
       "      <td>recent_temps</td>\n",
       "      <td>0.169633</td>\n",
       "    </tr>\n",
       "    <tr>\n",
       "      <th>0</th>\n",
       "      <td>day</td>\n",
       "      <td>0.271692</td>\n",
       "    </tr>\n",
       "  </tbody>\n",
       "</table>\n",
       "</div>"
      ],
      "text/plain": [
       "                  features  importance\n",
       "14            N PULASKI RD    0.004076\n",
       "13           S KOSTNER AVE    0.006832\n",
       "12         N MILWAUKEE AVE    0.007591\n",
       "11              S DOTY AVE    0.008311\n",
       "10          N OAK PARK AVE    0.008559\n",
       "9          W OHARE AIRPORT    0.009197\n",
       "1                      MIX    0.022297\n",
       "2                  PIPIENS    0.026432\n",
       "3                 RESTUANS    0.044919\n",
       "6            recent_precip    0.091589\n",
       "7   dist_to_standing_water    0.107092\n",
       "5         min_recent_temps    0.110452\n",
       "8            dist_to_spray    0.111328\n",
       "4             recent_temps    0.169633\n",
       "0                      day    0.271692"
      ]
     },
     "execution_count": 366,
     "metadata": {},
     "output_type": "execute_result"
    }
   ],
   "source": [
    "explanation.sort_values(by='importance', ascending=True)"
   ]
  },
  {
   "cell_type": "code",
   "execution_count": 244,
   "metadata": {},
   "outputs": [
    {
     "name": "stdout",
     "output_type": "stream",
     "text": [
      "2.0733572212885703\n",
      "2.323630532478759\n"
     ]
    }
   ],
   "source": [
    "\n",
    "print(train.loc[train['WnvPresent']==1]['dist_to_spray'].mean())\n",
    "print(train.loc[train['WnvPresent']==0]['dist_to_spray'].mean())\n"
   ]
  },
  {
   "cell_type": "code",
   "execution_count": 245,
   "metadata": {},
   "outputs": [
    {
     "name": "stdout",
     "output_type": "stream",
     "text": [
      "1.1704312191125084\n",
      "0.9838460696166562\n"
     ]
    }
   ],
   "source": [
    "print(train.loc[train['WnvPresent']==1]['dist_to_standing_water'].mean())\n",
    "print(train.loc[train['WnvPresent']==0]['dist_to_standing_water'].mean())\n"
   ]
  },
  {
   "cell_type": "markdown",
   "metadata": {},
   "source": [
    "# E. Support Vector Machine generating AUC score of .5; worthless"
   ]
  },
  {
   "cell_type": "code",
   "execution_count": 518,
   "metadata": {},
   "outputs": [],
   "source": [
    "pipeline3 = Pipeline([\n",
    "    \n",
    "    ('ss', StandardScaler()),\n",
    "    ('sv', svm.SVC())\n",
    "])\n",
    "\n"
   ]
  },
  {
   "cell_type": "code",
   "execution_count": 537,
   "metadata": {},
   "outputs": [],
   "source": [
    "hyperparameters={\n",
    "            'sv__C':np.logspace(-4, 2, 3) ,   \n",
    "            'sv__gamma': np.logspace(-4, 2, 3),\n",
    "            'sv__class_weight': ['balanced'],\n",
    "            'sv__probability': [True]\n",
    "}\n",
    "                \n",
    "svcgrid = GridSearchCV(pipeline3, hyperparameters, cv=3, scoring='f1')"
   ]
  },
  {
   "cell_type": "code",
   "execution_count": 538,
   "metadata": {},
   "outputs": [
    {
     "data": {
      "text/plain": [
       "GridSearchCV(cv=3, error_score='raise',\n",
       "       estimator=Pipeline(memory=None,\n",
       "     steps=[('ss', StandardScaler(copy=True, with_mean=True, with_std=True)), ('sv', SVC(C=1.0, cache_size=200, class_weight=None, coef0=0.0,\n",
       "  decision_function_shape='ovr', degree=3, gamma='auto', kernel='rbf',\n",
       "  max_iter=-1, probability=False, random_state=None, shrinking=True,\n",
       "  tol=0.001, verbose=False))]),\n",
       "       fit_params=None, iid=True, n_jobs=1,\n",
       "       param_grid={'sv__C': array([1.e-04, 1.e-01, 1.e+02]), 'sv__gamma': array([1.e-04, 1.e-01, 1.e+02]), 'sv__class_weight': ['balanced'], 'sv__probability': [True]},\n",
       "       pre_dispatch='2*n_jobs', refit=True, return_train_score='warn',\n",
       "       scoring='f1', verbose=0)"
      ]
     },
     "execution_count": 538,
     "metadata": {},
     "output_type": "execute_result"
    }
   ],
   "source": [
    "svcgrid.fit(X_train, y_train)"
   ]
  },
  {
   "cell_type": "code",
   "execution_count": 540,
   "metadata": {},
   "outputs": [
    {
     "data": {
      "text/plain": [
       "{'sv__C': 100.0,\n",
       " 'sv__class_weight': 'balanced',\n",
       " 'sv__gamma': 0.1,\n",
       " 'sv__probability': True}"
      ]
     },
     "execution_count": 540,
     "metadata": {},
     "output_type": "execute_result"
    }
   ],
   "source": [
    "svcgrid.best_params_"
   ]
  },
  {
   "cell_type": "code",
   "execution_count": 541,
   "metadata": {},
   "outputs": [
    {
     "data": {
      "text/plain": [
       "0.30392156862745096"
      ]
     },
     "execution_count": 541,
     "metadata": {},
     "output_type": "execute_result"
    }
   ],
   "source": [
    "svcgrid.score(X_train, y_train)"
   ]
  },
  {
   "cell_type": "code",
   "execution_count": 542,
   "metadata": {},
   "outputs": [
    {
     "data": {
      "text/plain": [
       "0.2270742358078603"
      ]
     },
     "execution_count": 542,
     "metadata": {},
     "output_type": "execute_result"
    }
   ],
   "source": [
    "svcgrid.score(X_test, y_test)"
   ]
  },
  {
   "cell_type": "code",
   "execution_count": 565,
   "metadata": {},
   "outputs": [
    {
     "name": "stdout",
     "output_type": "stream",
     "text": [
      "False Positive Rate 0.0\n",
      "False Negative Rate 1.0\n",
      "Accuracy 0.9419600380589914\n",
      "ROC AUC Score 0.5\n"
     ]
    }
   ],
   "source": [
    "score_model(svcgrid, \"Support Vector Machine\", .5, X_test, y_test)"
   ]
  },
  {
   "cell_type": "markdown",
   "metadata": {},
   "source": [
    "# F. KNN"
   ]
  },
  {
   "cell_type": "code",
   "execution_count": 545,
   "metadata": {},
   "outputs": [],
   "source": [
    "pipeline2 = Pipeline([\n",
    "    \n",
    "    ('ss', StandardScaler()),\n",
    "    ('kn', KNeighborsClassifier())\n",
    "])\n"
   ]
  },
  {
   "cell_type": "code",
   "execution_count": 569,
   "metadata": {},
   "outputs": [],
   "source": [
    "hyperparameters={\n",
    "                'kn__p': [1,2],\n",
    "                'kn__n_neighbors': [1, 5,10, 20, 40]\n",
    "}\n",
    "                \n",
    "knngrid = GridSearchCV(pipeline2, hyperparameters, cv=3, scoring='f1')"
   ]
  },
  {
   "cell_type": "code",
   "execution_count": 570,
   "metadata": {},
   "outputs": [
    {
     "data": {
      "text/plain": [
       "GridSearchCV(cv=3, error_score='raise',\n",
       "       estimator=Pipeline(memory=None,\n",
       "     steps=[('ss', StandardScaler(copy=True, with_mean=True, with_std=True)), ('kn', KNeighborsClassifier(algorithm='auto', leaf_size=30, metric='minkowski',\n",
       "           metric_params=None, n_jobs=1, n_neighbors=5, p=2,\n",
       "           weights='uniform'))]),\n",
       "       fit_params=None, iid=True, n_jobs=1,\n",
       "       param_grid={'kn__p': [1, 2], 'kn__n_neighbors': [1, 5, 10, 20, 40]},\n",
       "       pre_dispatch='2*n_jobs', refit=True, return_train_score='warn',\n",
       "       scoring='f1', verbose=0)"
      ]
     },
     "execution_count": 570,
     "metadata": {},
     "output_type": "execute_result"
    }
   ],
   "source": [
    "knngrid.fit(X_train_o, y_train_o)"
   ]
  },
  {
   "cell_type": "code",
   "execution_count": 571,
   "metadata": {},
   "outputs": [
    {
     "data": {
      "text/plain": [
       "{'kn__n_neighbors': 1, 'kn__p': 2}"
      ]
     },
     "execution_count": 571,
     "metadata": {},
     "output_type": "execute_result"
    }
   ],
   "source": [
    "knngrid.best_params_"
   ]
  },
  {
   "cell_type": "code",
   "execution_count": 572,
   "metadata": {},
   "outputs": [
    {
     "data": {
      "text/plain": [
       "0.9542467138523761"
      ]
     },
     "execution_count": 572,
     "metadata": {},
     "output_type": "execute_result"
    }
   ],
   "source": [
    "knngrid.score(X_train_o, y_train_o)"
   ]
  },
  {
   "cell_type": "code",
   "execution_count": 573,
   "metadata": {},
   "outputs": [
    {
     "data": {
      "text/plain": [
       "0.1987577639751553"
      ]
     },
     "execution_count": 573,
     "metadata": {},
     "output_type": "execute_result"
    }
   ],
   "source": [
    "knngrid.score(X_test, y_test)"
   ]
  },
  {
   "cell_type": "code",
   "execution_count": 574,
   "metadata": {},
   "outputs": [
    {
     "name": "stdout",
     "output_type": "stream",
     "text": [
      "False Positive Rate 0.08484848484848485\n",
      "False Negative Rate 0.7377049180327869\n",
      "Accuracy 0.8772597526165556\n",
      "ROC AUC Score 0.5887232985593641\n"
     ]
    }
   ],
   "source": [
    "score_model(knngrid, \"KNN\", .5, X_test, y_test)"
   ]
  },
  {
   "cell_type": "markdown",
   "metadata": {},
   "source": [
    "# G. Logistic Regression"
   ]
  },
  {
   "cell_type": "code",
   "execution_count": 586,
   "metadata": {},
   "outputs": [
    {
     "data": {
      "text/plain": [
       "0.18713450292397663"
      ]
     },
     "execution_count": 586,
     "metadata": {},
     "output_type": "execute_result"
    }
   ],
   "source": [
    "pipeline1 = Pipeline([\n",
    "    \n",
    "    ('ss', StandardScaler()),\n",
    "    ('lm', LogisticRegression())\n",
    "])\n",
    "\n",
    "\n",
    "hyperparameters={\n",
    "                'lm__C': [.001, .01, .1, 1, 10],\n",
    "                'lm__penalty': ['l1','l2']\n",
    "}\n",
    "                \n",
    "lingrid = GridSearchCV(pipeline1, hyperparameters, cv=3, scoring='f1')\n",
    "\n",
    "\n",
    "_=lingrid.fit(X_train_o, y_train_o)\n",
    "\n",
    "\n",
    "\n",
    "lingrid.score(X_test, y_test)"
   ]
  },
  {
   "cell_type": "code",
   "execution_count": 587,
   "metadata": {},
   "outputs": [
    {
     "data": {
      "text/plain": [
       "{'lm__C': 0.01, 'lm__penalty': 'l1'}"
      ]
     },
     "execution_count": 587,
     "metadata": {},
     "output_type": "execute_result"
    }
   ],
   "source": [
    "lingrid.best_params_"
   ]
  },
  {
   "cell_type": "code",
   "execution_count": 588,
   "metadata": {},
   "outputs": [
    {
     "name": "stdout",
     "output_type": "stream",
     "text": [
      "False Positive Rate 0.4080808080808081\n",
      "False Negative Rate 0.21311475409836064\n",
      "Accuracy 0.6032350142721218\n",
      "ROC AUC Score 0.6894022189104156\n"
     ]
    }
   ],
   "source": [
    "score_model(lingrid, \"Logistic Regression\", .5, X_test, y_test)"
   ]
  },
  {
   "cell_type": "code",
   "execution_count": null,
   "metadata": {},
   "outputs": [],
   "source": []
  }
 ],
 "metadata": {
  "kernelspec": {
   "display_name": "Python 3",
   "language": "python",
   "name": "python3"
  },
  "language_info": {
   "codemirror_mode": {
    "name": "ipython",
    "version": 3
   },
   "file_extension": ".py",
   "mimetype": "text/x-python",
   "name": "python",
   "nbconvert_exporter": "python",
   "pygments_lexer": "ipython3",
   "version": "3.6.5"
  }
 },
 "nbformat": 4,
 "nbformat_minor": 2
}
