{
 "cells": [
  {
   "cell_type": "code",
   "execution_count": 1,
   "metadata": {},
   "outputs": [],
   "source": [
    "import pandas as pd\n",
    "import numpy as np\n",
    "import matplotlib.pyplot as plt\n",
    "import seaborn as sns\n",
    "from haversine import haversine\n",
    "from sklearn.model_selection import train_test_split\n",
    "np.random.seed(42)\n",
    "import scipy.stats as stats\n",
    "import seaborn as sns\n",
    "import re\n",
    "from sklearn.preprocessing import StandardScaler\n",
    "from datetime import timedelta  \n",
    "\n",
    "\n",
    "\n",
    "from matplotlib import rcParams\n",
    "rcParams.update({'figure.autolayout':True})\n",
    "\n",
    "plt.style.use([\"presentation\"])\n",
    "\n",
    "%matplotlib inline"
   ]
  },
  {
   "cell_type": "code",
   "execution_count": 10,
   "metadata": {},
   "outputs": [],
   "source": [
    "\n",
    "\n",
    "from sklearn.model_selection import train_test_split, GridSearchCV\n",
    "from sklearn.linear_model import LogisticRegression\n",
    "from sklearn.pipeline import Pipeline\n",
    "from sklearn.preprocessing import StandardScaler\n",
    "from sklearn.metrics import confusion_matrix, roc_auc_score\n",
    "from sklearn.naive_bayes import MultinomialNB\n",
    "from sklearn.ensemble import RandomForestClassifier\n",
    "from sklearn.metrics import roc_auc_score, mean_squared_error, confusion_matrix, f1_score\n",
    "from sklearn.neighbors import KNeighborsRegressor, KNeighborsClassifier\n",
    "from sklearn import svm\n"
   ]
  },
  {
   "cell_type": "code",
   "execution_count": 11,
   "metadata": {},
   "outputs": [],
   "source": [
    "test=pd.read_pickle('./assets/test_step1')"
   ]
  },
  {
   "cell_type": "code",
   "execution_count": 12,
   "metadata": {},
   "outputs": [],
   "source": [
    "train=pd.read_pickle('./assets/train_step1')"
   ]
  },
  {
   "cell_type": "code",
   "execution_count": 13,
   "metadata": {},
   "outputs": [],
   "source": [
    "pred=pd.read_pickle('./assets/prediction_step1')"
   ]
  },
  {
   "cell_type": "code",
   "execution_count": 14,
   "metadata": {},
   "outputs": [],
   "source": [
    "NOAA=pd.read_pickle('./assets/NOAA')"
   ]
  },
  {
   "cell_type": "markdown",
   "metadata": {},
   "source": [
    "# A. More feature engineering"
   ]
  },
  {
   "cell_type": "code",
   "execution_count": 15,
   "metadata": {},
   "outputs": [],
   "source": [
    "# Found a paper, https://parasitesandvectors.biomedcentral.com/articles/10.1186/1756-3305-6-129,\n",
    "# that says that length of day for the last 30 days and the wind speed for the past 20 days\n",
    "# are both important to predicting Culex pipiens.  So let's get that weather data.\n"
   ]
  },
  {
   "cell_type": "code",
   "execution_count": 8,
   "metadata": {},
   "outputs": [],
   "source": [
    "test['day']=test['Date'].map(lambda x: x.dayofyear)\n",
    "train['day']=train['Date'].map(lambda x: x.dayofyear)\n",
    "pred['day']=pred['Date'].map(lambda x: x.dayofyear)\n"
   ]
  },
  {
   "cell_type": "code",
   "execution_count": 9,
   "metadata": {},
   "outputs": [],
   "source": [
    "test['day2']=test['day']**2\n",
    "train['day2']=train['day']**2\n",
    "pred['day2']=pred['day']**2"
   ]
  },
  {
   "cell_type": "code",
   "execution_count": 10,
   "metadata": {},
   "outputs": [],
   "source": [
    "def convert(x):\n",
    "    if x[-2:]=='60':\n",
    "        x=re.sub('60$', '59', x)\n",
    "    x=pd.to_datetime(x, format='%H%M')\n",
    "    return x\n",
    "\n"
   ]
  },
  {
   "cell_type": "code",
   "execution_count": 11,
   "metadata": {},
   "outputs": [],
   "source": [
    "NOAA['Sunset']=NOAA['Sunset'].map(convert)\n",
    "NOAA['Sunrise']=NOAA['Sunrise'].map(convert)"
   ]
  },
  {
   "cell_type": "code",
   "execution_count": 12,
   "metadata": {},
   "outputs": [],
   "source": [
    "NOAA['Daylength']=(NOAA['Sunset']-NOAA['Sunrise']).astype('timedelta64[m]')"
   ]
  },
  {
   "cell_type": "code",
   "execution_count": 13,
   "metadata": {},
   "outputs": [],
   "source": [
    "def measure_recent_days(A):\n",
    "    return NOAA.loc[(NOAA['Date']>(A-timedelta(days=7)))&(NOAA['Date']<=A)]['Daylength'].mean()"
   ]
  },
  {
   "cell_type": "code",
   "execution_count": 14,
   "metadata": {},
   "outputs": [],
   "source": [
    "train['recent_day_length']=train['Date'].map(measure_recent_days)"
   ]
  },
  {
   "cell_type": "code",
   "execution_count": 15,
   "metadata": {},
   "outputs": [],
   "source": [
    "test['recent_day_length']=test['Date'].map(measure_recent_days)"
   ]
  },
  {
   "cell_type": "code",
   "execution_count": 16,
   "metadata": {},
   "outputs": [],
   "source": [
    "pred['recent_day_length']=pred['Date'].map(measure_recent_days)"
   ]
  },
  {
   "cell_type": "code",
   "execution_count": 17,
   "metadata": {},
   "outputs": [],
   "source": [
    "# Create a quadratic term for day length\n",
    "\n",
    "train['day_length_2']=train['recent_day_length']**2\n",
    "test['day_length_2']=test['recent_day_length']**2\n",
    "pred['day_length_2']=pred['recent_day_length']**2\n"
   ]
  },
  {
   "cell_type": "code",
   "execution_count": 18,
   "metadata": {},
   "outputs": [],
   "source": [
    "new_vals = []\n",
    "\n",
    "for i, x in enumerate(NOAA['AvgSpeed']):\n",
    "    if x == 'M':\n",
    "        new_vals.append(NOAA['AvgSpeed'].loc[i+1])\n",
    "    else:\n",
    "        new_vals.append(x)\n",
    "        \n",
    "NOAA['AvgSpeed'] = new_vals\n",
    "NOAA['AvgSpeed'] = NOAA['AvgSpeed'].astype(float)"
   ]
  },
  {
   "cell_type": "code",
   "execution_count": 19,
   "metadata": {},
   "outputs": [],
   "source": [
    "def measure_recent_wind(A):\n",
    "    return NOAA.loc[(NOAA['Date']>(A-timedelta(days=20)))&(NOAA['Date']<=A)]['AvgSpeed'].mean()"
   ]
  },
  {
   "cell_type": "code",
   "execution_count": 20,
   "metadata": {},
   "outputs": [],
   "source": [
    "train['recent_wind']=train['Date'].map(measure_recent_wind)"
   ]
  },
  {
   "cell_type": "code",
   "execution_count": 21,
   "metadata": {},
   "outputs": [],
   "source": [
    "test['recent_wind']=test['Date'].map(measure_recent_wind)"
   ]
  },
  {
   "cell_type": "code",
   "execution_count": 22,
   "metadata": {},
   "outputs": [],
   "source": [
    "pred['recent_wind']=pred['Date'].map(measure_recent_wind)"
   ]
  },
  {
   "cell_type": "code",
   "execution_count": 23,
   "metadata": {},
   "outputs": [],
   "source": [
    "# The east-west axis might be particularly relevant due to the presence of Lake Michigan."
   ]
  },
  {
   "cell_type": "code",
   "execution_count": 184,
   "metadata": {},
   "outputs": [],
   "source": [
    "train['north_south']=train['Location'].map(lambda x: x[0])\n",
    "train['north_south2']=train['north_south']**2"
   ]
  },
  {
   "cell_type": "code",
   "execution_count": 185,
   "metadata": {},
   "outputs": [],
   "source": [
    "test['north_south']=test['Location'].map(lambda x: x[0])\n",
    "test['north_south2']=test['north_south']**2"
   ]
  },
  {
   "cell_type": "code",
   "execution_count": 186,
   "metadata": {},
   "outputs": [],
   "source": [
    "pred['north_south']=pred['Location'].map(lambda x: x[0])\n",
    "pred['north_south2']=pred['north_south']**2"
   ]
  },
  {
   "cell_type": "code",
   "execution_count": 187,
   "metadata": {},
   "outputs": [],
   "source": [
    "train['east_west']=train['Location'].map(lambda x: x[1])\n",
    "train['east_west2']=train['east_west']**2"
   ]
  },
  {
   "cell_type": "code",
   "execution_count": 188,
   "metadata": {},
   "outputs": [],
   "source": [
    "test['east_west']=test['Location'].map(lambda x: x[1])\n",
    "test['east_west2']=test['east_west']**2"
   ]
  },
  {
   "cell_type": "code",
   "execution_count": 189,
   "metadata": {},
   "outputs": [],
   "source": [
    "pred['east_west']=pred['Location'].map(lambda x: x[1])\n",
    "pred['east_west2']=pred['east_west']**2"
   ]
  },
  {
   "cell_type": "code",
   "execution_count": 193,
   "metadata": {},
   "outputs": [],
   "source": [
    "train.to_pickle('./assets/train_step2')"
   ]
  },
  {
   "cell_type": "code",
   "execution_count": 194,
   "metadata": {},
   "outputs": [],
   "source": [
    "test.to_pickle('./assets/test_step2')"
   ]
  },
  {
   "cell_type": "code",
   "execution_count": 195,
   "metadata": {},
   "outputs": [],
   "source": [
    "pred.to_pickle('./assets/pred_step2')"
   ]
  },
  {
   "cell_type": "code",
   "execution_count": null,
   "metadata": {},
   "outputs": [],
   "source": []
  }
 ],
 "metadata": {
  "kernelspec": {
   "display_name": "Python 3",
   "language": "python",
   "name": "python3"
  },
  "language_info": {
   "codemirror_mode": {
    "name": "ipython",
    "version": 3
   },
   "file_extension": ".py",
   "mimetype": "text/x-python",
   "name": "python",
   "nbconvert_exporter": "python",
   "pygments_lexer": "ipython3",
   "version": "3.6.5"
  }
 },
 "nbformat": 4,
 "nbformat_minor": 2
}
