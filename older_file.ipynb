{
 "cells": [
  {
   "cell_type": "code",
   "execution_count": 1,
   "metadata": {},
   "outputs": [],
   "source": [
    "import pandas as pd\n",
    "import numpy as np\n",
    "import matplotlib.pyplot as plt\n",
    "import seaborn as sns\n",
    "from haversine import haversine\n",
    "from sklearn.model_selection import train_test_split\n",
    "np.random.seed(42)\n",
    "import scipy.stats as stats\n",
    "import seaborn as sns\n",
    "import re\n",
    "from sklearn.preprocessing import StandardScaler\n",
    "from datetime import timedelta  \n",
    "\n",
    "\n",
    "\n",
    "from matplotlib import rcParams\n",
    "rcParams.update({'figure.autolayout':True})\n",
    "\n",
    "plt.style.use([\"presentation\"])\n",
    "\n",
    "%matplotlib inline"
   ]
  },
  {
   "cell_type": "code",
   "execution_count": 10,
   "metadata": {},
   "outputs": [],
   "source": [
    "\n",
    "\n",
    "from sklearn.model_selection import train_test_split, GridSearchCV\n",
    "from sklearn.linear_model import LogisticRegression\n",
    "from sklearn.pipeline import Pipeline\n",
    "from sklearn.preprocessing import StandardScaler\n",
    "from sklearn.metrics import confusion_matrix, roc_auc_score\n",
    "from sklearn.naive_bayes import MultinomialNB\n",
    "from sklearn.ensemble import RandomForestClassifier\n",
    "from sklearn.metrics import roc_auc_score, mean_squared_error, confusion_matrix, f1_score\n",
    "from sklearn.neighbors import KNeighborsRegressor, KNeighborsClassifier\n",
    "from sklearn import svm\n"
   ]
  },
  {
   "cell_type": "code",
   "execution_count": 11,
   "metadata": {},
   "outputs": [],
   "source": [
    "test=pd.read_pickle('./assets/test_step1')"
   ]
  },
  {
   "cell_type": "code",
   "execution_count": 12,
   "metadata": {},
   "outputs": [],
   "source": [
    "train=pd.read_pickle('./assets/train_step1')"
   ]
  },
  {
   "cell_type": "code",
   "execution_count": 13,
   "metadata": {},
   "outputs": [],
   "source": [
    "pred=pd.read_pickle('./assets/prediction_step1')"
   ]
  },
  {
   "cell_type": "code",
   "execution_count": 14,
   "metadata": {},
   "outputs": [],
   "source": [
    "NOAA=pd.read_pickle('./assets/NOAA')"
   ]
  },
  {
   "cell_type": "markdown",
   "metadata": {},
   "source": [
    "# A. More feature engineering"
   ]
  },
  {
   "cell_type": "code",
   "execution_count": 15,
   "metadata": {},
   "outputs": [],
   "source": [
    "# Found a paper, https://parasitesandvectors.biomedcentral.com/articles/10.1186/1756-3305-6-129,\n",
    "# that says that length of day for the last 30 days and the wind speed for the past 20 days\n",
    "# are both important to predicting Culex pipiens.  So let's get that weather data.\n"
   ]
  },
  {
   "cell_type": "code",
   "execution_count": 8,
   "metadata": {},
   "outputs": [],
   "source": [
    "test['day']=test['Date'].map(lambda x: x.dayofyear)\n",
    "train['day']=train['Date'].map(lambda x: x.dayofyear)\n",
    "pred['day']=pred['Date'].map(lambda x: x.dayofyear)\n"
   ]
  },
  {
   "cell_type": "code",
   "execution_count": 9,
   "metadata": {},
   "outputs": [],
   "source": [
    "test['day2']=test['day']**2\n",
    "train['day2']=train['day']**2\n",
    "pred['day2']=pred['day']**2"
   ]
  },
  {
   "cell_type": "code",
   "execution_count": 10,
   "metadata": {},
   "outputs": [],
   "source": [
    "def convert(x):\n",
    "    if x[-2:]=='60':\n",
    "        x=re.sub('60$', '59', x)\n",
    "    x=pd.to_datetime(x, format='%H%M')\n",
    "    return x\n",
    "\n"
   ]
  },
  {
   "cell_type": "code",
   "execution_count": 11,
   "metadata": {},
   "outputs": [],
   "source": [
    "NOAA['Sunset']=NOAA['Sunset'].map(convert)\n",
    "NOAA['Sunrise']=NOAA['Sunrise'].map(convert)"
   ]
  },
  {
   "cell_type": "code",
   "execution_count": 12,
   "metadata": {},
   "outputs": [],
   "source": [
    "NOAA['Daylength']=(NOAA['Sunset']-NOAA['Sunrise']).astype('timedelta64[m]')"
   ]
  },
  {
   "cell_type": "code",
   "execution_count": 13,
   "metadata": {},
   "outputs": [],
   "source": [
    "def measure_recent_days(A):\n",
    "    return NOAA.loc[(NOAA['Date']>(A-timedelta(days=7)))&(NOAA['Date']<=A)]['Daylength'].mean()"
   ]
  },
  {
   "cell_type": "code",
   "execution_count": 14,
   "metadata": {},
   "outputs": [],
   "source": [
    "train['recent_day_length']=train['Date'].map(measure_recent_days)"
   ]
  },
  {
   "cell_type": "code",
   "execution_count": 15,
   "metadata": {},
   "outputs": [],
   "source": [
    "test['recent_day_length']=test['Date'].map(measure_recent_days)"
   ]
  },
  {
   "cell_type": "code",
   "execution_count": 16,
   "metadata": {},
   "outputs": [],
   "source": [
    "pred['recent_day_length']=pred['Date'].map(measure_recent_days)"
   ]
  },
  {
   "cell_type": "code",
   "execution_count": 17,
   "metadata": {},
   "outputs": [],
   "source": [
    "# Create a quadratic term for day length\n",
    "\n",
    "train['day_length_2']=train['recent_day_length']**2\n",
    "test['day_length_2']=test['recent_day_length']**2\n",
    "pred['day_length_2']=pred['recent_day_length']**2\n"
   ]
  },
  {
   "cell_type": "code",
   "execution_count": 18,
   "metadata": {},
   "outputs": [],
   "source": [
    "new_vals = []\n",
    "\n",
    "for i, x in enumerate(NOAA['AvgSpeed']):\n",
    "    if x == 'M':\n",
    "        new_vals.append(NOAA['AvgSpeed'].loc[i+1])\n",
    "    else:\n",
    "        new_vals.append(x)\n",
    "        \n",
    "NOAA['AvgSpeed'] = new_vals\n",
    "NOAA['AvgSpeed'] = NOAA['AvgSpeed'].astype(float)"
   ]
  },
  {
   "cell_type": "code",
   "execution_count": 19,
   "metadata": {},
   "outputs": [],
   "source": [
    "def measure_recent_wind(A):\n",
    "    return NOAA.loc[(NOAA['Date']>(A-timedelta(days=20)))&(NOAA['Date']<=A)]['AvgSpeed'].mean()"
   ]
  },
  {
   "cell_type": "code",
   "execution_count": 20,
   "metadata": {},
   "outputs": [],
   "source": [
    "train['recent_wind']=train['Date'].map(measure_recent_wind)"
   ]
  },
  {
   "cell_type": "code",
   "execution_count": 21,
   "metadata": {},
   "outputs": [],
   "source": [
    "test['recent_wind']=test['Date'].map(measure_recent_wind)"
   ]
  },
  {
   "cell_type": "code",
   "execution_count": 22,
   "metadata": {},
   "outputs": [],
   "source": [
    "pred['recent_wind']=pred['Date'].map(measure_recent_wind)"
   ]
  },
  {
   "cell_type": "code",
   "execution_count": 23,
   "metadata": {},
   "outputs": [],
   "source": [
    "# The east-west axis might be relevant due to the presence of Lake Michigan."
   ]
  },
  {
   "cell_type": "code",
   "execution_count": 184,
   "metadata": {},
   "outputs": [],
   "source": [
    "train['north_south']=train['Location'].map(lambda x: x[0])\n",
    "train['north_south2']=train['north_south']**2"
   ]
  },
  {
   "cell_type": "code",
   "execution_count": 185,
   "metadata": {},
   "outputs": [],
   "source": [
    "test['north_south']=test['Location'].map(lambda x: x[0])\n",
    "test['north_south2']=test['north_south']**2"
   ]
  },
  {
   "cell_type": "code",
   "execution_count": 186,
   "metadata": {},
   "outputs": [],
   "source": [
    "pred['north_south']=pred['Location'].map(lambda x: x[0])\n",
    "pred['north_south2']=pred['north_south']**2"
   ]
  },
  {
   "cell_type": "code",
   "execution_count": 187,
   "metadata": {},
   "outputs": [],
   "source": [
    "train['east_west']=train['Location'].map(lambda x: x[1])\n",
    "train['east_west2']=train['east_west']**2"
   ]
  },
  {
   "cell_type": "code",
   "execution_count": 188,
   "metadata": {},
   "outputs": [],
   "source": [
    "test['east_west']=test['Location'].map(lambda x: x[1])\n",
    "test['east_west2']=test['east_west']**2"
   ]
  },
  {
   "cell_type": "code",
   "execution_count": 189,
   "metadata": {},
   "outputs": [],
   "source": [
    "pred['east_west']=pred['Location'].map(lambda x: x[1])\n",
    "pred['east_west2']=pred['east_west']**2"
   ]
  },
  {
   "cell_type": "code",
   "execution_count": 193,
   "metadata": {},
   "outputs": [],
   "source": [
    "train.to_pickle('./assets/train_step2')"
   ]
  },
  {
   "cell_type": "code",
   "execution_count": 194,
   "metadata": {},
   "outputs": [],
   "source": [
    "test.to_pickle('./assets/test_step2')"
   ]
  },
  {
   "cell_type": "code",
   "execution_count": 195,
   "metadata": {},
   "outputs": [],
   "source": [
    "pred.to_pickle('./assets/pred_step2')"
   ]
  },
  {
   "cell_type": "code",
   "execution_count": null,
   "metadata": {},
   "outputs": [],
   "source": []
  },
  {
   "cell_type": "markdown",
   "metadata": {},
   "source": [
    "## A.1 A little EDA on the new features"
   ]
  },
  {
   "cell_type": "code",
   "execution_count": 196,
   "metadata": {},
   "outputs": [
    {
     "name": "stderr",
     "output_type": "stream",
     "text": [
      "/anaconda3/envs/dsi/lib/python3.6/site-packages/matplotlib/figure.py:2267: UserWarning: This figure includes Axes that are not compatible with tight_layout, so results might be incorrect.\n",
      "  warnings.warn(\"This figure includes Axes that are not compatible \"\n"
     ]
    },
    {
     "data": {
      "image/png": "[encoded data removed]",
      "text/plain": [
       "<Figure size 576x432 with 1 Axes>"
      ]
     },
     "metadata": {},
     "output_type": "display_data"
    }
   ],
   "source": [
    "figure, ax = plt.subplots(nrows=1, ncols=1, figsize=(8,6))\n",
    "\n",
    "train.loc[train['WnvPresent']==1]['recent_day_length'].hist(bins=15, alpha=.3, density=True, label = 'WNV positive bugs', color='red')\n",
    "train.loc[train['WnvPresent']==0]['recent_day_length'].hist(bins=15, alpha=.3, density=True, label = 'WNV negative bugs',)\n",
    "plt.legend(loc='upper right')\n",
    "ax.set_xlabel('Average day length, last 7 days (min)')\n",
    "ax.set_ylabel('Fraction of Each Population')\n",
    "\n",
    "plt.savefig(\"./EDA1.png\")"
   ]
  },
  {
   "cell_type": "code",
   "execution_count": 197,
   "metadata": {},
   "outputs": [
    {
     "name": "stderr",
     "output_type": "stream",
     "text": [
      "/anaconda3/envs/dsi/lib/python3.6/site-packages/matplotlib/figure.py:2267: UserWarning: This figure includes Axes that are not compatible with tight_layout, so results might be incorrect.\n",
      "  warnings.warn(\"This figure includes Axes that are not compatible \"\n"
     ]
    },
    {
     "data": {
      "image/png": "[encoded data removed]",
      "text/plain": [
       "<Figure size 576x432 with 1 Axes>"
      ]
     },
     "metadata": {},
     "output_type": "display_data"
    }
   ],
   "source": [
    "figure, ax = plt.subplots(nrows=1, ncols=1, figsize=(8,6))\n",
    "\n",
    "train.loc[train['WnvPresent']==1]['day'].hist( alpha=.3, density=True, label = 'WNV positive bugs', color='red')\n",
    "train.loc[train['WnvPresent']==0]['day'].hist(alpha=.3, density=True, label = 'WNV negative bugs',)\n",
    "plt.legend(loc='upper right')\n",
    "ax.set_xlabel('Day of Year')\n",
    "ax.set_ylabel('Fraction of Each Population')\n",
    "\n",
    "plt.savefig(\"./EDA2.png\")"
   ]
  },
  {
   "cell_type": "code",
   "execution_count": 198,
   "metadata": {
    "scrolled": true
   },
   "outputs": [
    {
     "name": "stderr",
     "output_type": "stream",
     "text": [
      "/anaconda3/envs/dsi/lib/python3.6/site-packages/matplotlib/figure.py:2267: UserWarning: This figure includes Axes that are not compatible with tight_layout, so results might be incorrect.\n",
      "  warnings.warn(\"This figure includes Axes that are not compatible \"\n"
     ]
    },
    {
     "data": {
      "image/png": "[encoded data removed]",
      "text/plain": [
       "<Figure size 576x432 with 1 Axes>"
      ]
     },
     "metadata": {},
     "output_type": "display_data"
    }
   ],
   "source": [
    "figure, ax = plt.subplots(nrows=1, ncols=1, figsize=(8,6))\n",
    "\n",
    "train.loc[train['WnvPresent']==1]['recent_wind'].hist( alpha=.3, density=True, label = 'WNV positive bugs', color='red')\n",
    "train.loc[train['WnvPresent']==0]['recent_wind'].hist( alpha=.3, density=True, label = 'WNV negative bugs',)\n",
    "plt.legend(loc='upper right')\n",
    "ax.set_xlabel('Average Wind Speed, last 3 weeks (mph)')\n",
    "ax.set_ylabel('Fraction of Each Population')\n",
    "\n",
    "plt.savefig(\"./timing.png\")"
   ]
  },
  {
   "cell_type": "code",
   "execution_count": 199,
   "metadata": {},
   "outputs": [
    {
     "name": "stderr",
     "output_type": "stream",
     "text": [
      "/anaconda3/envs/dsi/lib/python3.6/site-packages/matplotlib/figure.py:2267: UserWarning: This figure includes Axes that are not compatible with tight_layout, so results might be incorrect.\n",
      "  warnings.warn(\"This figure includes Axes that are not compatible \"\n"
     ]
    },
    {
     "data": {
      "image/png": "[encoded data removed]",
      "text/plain": [
       "<Figure size 576x432 with 1 Axes>"
      ]
     },
     "metadata": {},
     "output_type": "display_data"
    }
   ],
   "source": [
    "figure, ax = plt.subplots(nrows=1, ncols=1, figsize=(8,6))\n",
    "\n",
    "train.loc[train['WnvPresent']==1]['east_west'].hist( alpha=.3, density=True, label = 'WNV positive bugs', color='red')\n",
    "train.loc[train['WnvPresent']==0]['east_west'].hist( alpha=.3, density=True, label = 'WNV negative bugs',)\n",
    "plt.legend(loc='upper right')\n",
    "ax.set_xlabel('Longitude')\n",
    "ax.set_ylabel('Fraction of Each Population')\n",
    "\n",
    "plt.savefig(\"./timing.png\")"
   ]
  },
  {
   "cell_type": "markdown",
   "metadata": {},
   "source": [
    "# B. Bootstrap the WNV-positive data to generate balanced classes for training"
   ]
  },
  {
   "cell_type": "code",
   "execution_count": 200,
   "metadata": {},
   "outputs": [],
   "source": [
    "train_positive=train.loc[train['WnvPresent']==1]"
   ]
  },
  {
   "cell_type": "code",
   "execution_count": 201,
   "metadata": {},
   "outputs": [],
   "source": [
    "train_negative=train.loc[train['WnvPresent']==0]"
   ]
  },
  {
   "cell_type": "code",
   "execution_count": 202,
   "metadata": {},
   "outputs": [
    {
     "data": {
      "text/plain": [
       "(429, 63)"
      ]
     },
     "execution_count": 202,
     "metadata": {},
     "output_type": "execute_result"
    }
   ],
   "source": [
    "train_positive.shape"
   ]
  },
  {
   "cell_type": "code",
   "execution_count": 203,
   "metadata": {},
   "outputs": [
    {
     "data": {
      "text/plain": [
       "7546"
      ]
     },
     "execution_count": 203,
     "metadata": {},
     "output_type": "execute_result"
    }
   ],
   "source": [
    "# We have 7,975 samples that are negative.  We need 7,546 extra samples of positive data\n",
    "# to balance the classes\n",
    "\n",
    "train_negative.shape[0]-train_positive.shape[0]"
   ]
  },
  {
   "cell_type": "code",
   "execution_count": 204,
   "metadata": {},
   "outputs": [],
   "source": [
    "# Sample the negative data to get 7,546 extra samples of positive data\n",
    "\n",
    "train_positive_extra=train_positive.sample(n=7546, replace=True)"
   ]
  },
  {
   "cell_type": "code",
   "execution_count": 205,
   "metadata": {},
   "outputs": [],
   "source": [
    "# Concat the positive, negative, and extra negative rows\n",
    "\n",
    "train_oversample=pd.concat([train_positive, train_negative, train_positive_extra])"
   ]
  },
  {
   "cell_type": "code",
   "execution_count": 206,
   "metadata": {},
   "outputs": [],
   "source": [
    "# Shuffle the rows\n",
    "\n",
    "train_oversample=train_oversample.sample(frac=1)"
   ]
  },
  {
   "cell_type": "markdown",
   "metadata": {},
   "source": [
    "# C. Generate feature matrix and target vector"
   ]
  },
  {
   "cell_type": "code",
   "execution_count": 207,
   "metadata": {},
   "outputs": [],
   "source": [
    "y_train_o=train_oversample['WnvPresent'].values\n",
    "y_train=train['WnvPresent'].values\n",
    "y_test=test['WnvPresent'].values"
   ]
  },
  {
   "cell_type": "code",
   "execution_count": 208,
   "metadata": {},
   "outputs": [],
   "source": [
    "# Cutting out the day and day^2 features, because probably too similar to the \n",
    "# day length features.  Also cutting out some of the street features that were\n",
    "# less significant.\n",
    "\n",
    "features= ['MIX',\n",
    "       'PIPIENS', 'RESTUANS', 'recent_temps', 'min_recent_temps',\n",
    "       'recent_precip', 'dist_to_standing_water', 'dist_to_spray',  \n",
    "           'recent_day_length', 'day_length_2', 'recent_wind', 'east_west', 'north_south',\n",
    "           'east_west2', 'north_south2',\n",
    "       ' W OHARE AIRPORT', ' N OAK PARK AVE', ' S DOTY AVE',\n",
    "       ' N MILWAUKEE AVE', ' S KOSTNER AVE']"
   ]
  },
  {
   "cell_type": "code",
   "execution_count": 209,
   "metadata": {},
   "outputs": [],
   "source": [
    "# o means a feature matrix from an oversampled set\n",
    "\n",
    "\n",
    "X_train_o=train_oversample[features]\n",
    "X_train=train[features]\n",
    "X_test=test[features]\n",
    "X_pred=pred[features]\n"
   ]
  },
  {
   "cell_type": "markdown",
   "metadata": {},
   "source": [
    "# D. Try a Random Forest"
   ]
  },
  {
   "cell_type": "code",
   "execution_count": 114,
   "metadata": {},
   "outputs": [],
   "source": [
    "rf=RandomForestClassifier()"
   ]
  },
  {
   "cell_type": "markdown",
   "metadata": {},
   "source": [
    "## D.1., I got better results using the balanced class weights hyperparameter, and not using oversampled training observations."
   ]
  },
  {
   "cell_type": "code",
   "execution_count": 150,
   "metadata": {},
   "outputs": [],
   "source": [
    "hyperparameters={\n",
    "                'n_estimators': [150],\n",
    "                'max_depth': [50, 100, 150],\n",
    "                'min_samples_split': [100, 125, 150],\n",
    "                'class_weight': ['balanced']\n",
    "}\n",
    "                \n",
    "rfgrid = GridSearchCV(rf, hyperparameters, cv=3, scoring='roc_auc')"
   ]
  },
  {
   "cell_type": "code",
   "execution_count": 151,
   "metadata": {},
   "outputs": [
    {
     "data": {
      "text/plain": [
       "GridSearchCV(cv=3, error_score='raise',\n",
       "       estimator=RandomForestClassifier(bootstrap=True, class_weight=None, criterion='gini',\n",
       "            max_depth=None, max_features='auto', max_leaf_nodes=None,\n",
       "            min_impurity_decrease=0.0, min_impurity_split=None,\n",
       "            min_samples_leaf=1, min_samples_split=2,\n",
       "            min_weight_fraction_leaf=0.0, n_estimators=10, n_jobs=1,\n",
       "            oob_score=False, random_state=None, verbose=0,\n",
       "            warm_start=False),\n",
       "       fit_params=None, iid=True, n_jobs=1,\n",
       "       param_grid={'n_estimators': [150], 'max_depth': [50, 100, 150], 'min_samples_split': [100, 125, 150], 'class_weight': ['balanced']},\n",
       "       pre_dispatch='2*n_jobs', refit=True, return_train_score='warn',\n",
       "       scoring='roc_auc', verbose=0)"
      ]
     },
     "execution_count": 151,
     "metadata": {},
     "output_type": "execute_result"
    }
   ],
   "source": [
    "rfgrid.fit(X_train, y_train)"
   ]
  },
  {
   "cell_type": "code",
   "execution_count": 152,
   "metadata": {},
   "outputs": [
    {
     "data": {
      "text/plain": [
       "{'class_weight': 'balanced',\n",
       " 'max_depth': 150,\n",
       " 'min_samples_split': 125,\n",
       " 'n_estimators': 150}"
      ]
     },
     "execution_count": 152,
     "metadata": {},
     "output_type": "execute_result"
    }
   ],
   "source": [
    "rfgrid.best_params_"
   ]
  },
  {
   "cell_type": "code",
   "execution_count": 153,
   "metadata": {},
   "outputs": [
    {
     "data": {
      "text/plain": [
       "0.8401867030965392"
      ]
     },
     "execution_count": 153,
     "metadata": {},
     "output_type": "execute_result"
    }
   ],
   "source": [
    "rfgrid.score(X_test, y_test)"
   ]
  },
  {
   "cell_type": "code",
   "execution_count": 154,
   "metadata": {},
   "outputs": [
    {
     "data": {
      "text/plain": [
       "0.9155567734251119"
      ]
     },
     "execution_count": 154,
     "metadata": {},
     "output_type": "execute_result"
    }
   ],
   "source": [
    "rfgrid.score(X_train, y_train)"
   ]
  },
  {
   "cell_type": "code",
   "execution_count": 155,
   "metadata": {},
   "outputs": [
    {
     "data": {
      "text/plain": [
       "0.7549842689186952"
      ]
     },
     "execution_count": 155,
     "metadata": {},
     "output_type": "execute_result"
    }
   ],
   "source": [
    "roc_auc_score(y_test, rfgrid.predict(X_test))"
   ]
  },
  {
   "cell_type": "code",
   "execution_count": 156,
   "metadata": {},
   "outputs": [
    {
     "data": {
      "text/plain": [
       "0.8282806848324089"
      ]
     },
     "execution_count": 156,
     "metadata": {},
     "output_type": "execute_result"
    }
   ],
   "source": [
    "roc_auc_score(y_train, rfgrid.predict(X_train))"
   ]
  },
  {
   "cell_type": "markdown",
   "metadata": {},
   "source": [
    "## D.2 See what happens when you change the classification threshold"
   ]
  },
  {
   "cell_type": "code",
   "execution_count": 157,
   "metadata": {},
   "outputs": [],
   "source": [
    "def threshold_predict(model, threshold, inputvals):\n",
    "    return [1 if item[1]>threshold else 0 for item in model.predict_proba(inputvals)]"
   ]
  },
  {
   "cell_type": "code",
   "execution_count": 158,
   "metadata": {},
   "outputs": [],
   "source": [
    "def score_model (model, modelname, threshold, Xvals, yvals):\n",
    "    \n",
    "    y_predict=threshold_predict(model, threshold, Xvals)\n",
    "    \n",
    "    conf=confusion_matrix(yvals, y_predict)\n",
    "    \n",
    "    print (\"False Positive Rate\", conf[0][1]/(conf[0][1]+conf[0][0]))\n",
    "    \n",
    "    print (\"False Negative Rate\", conf[1][0]/(conf[1][0]+conf[1][1]))\n",
    "    \n",
    "    print (\"Accuracy\", (conf[1][1]+conf[0][0])/(conf[1][1]+conf[0][0]+conf[1][0]+conf[0][1]))\n",
    "    "
   ]
  },
  {
   "cell_type": "code",
   "execution_count": 159,
   "metadata": {},
   "outputs": [
    {
     "name": "stdout",
     "output_type": "stream",
     "text": [
      "False Positive Rate 0.6313131313131313\n",
      "False Negative Rate 0.03278688524590164\n",
      "Accuracy 0.4034253092293054\n"
     ]
    }
   ],
   "source": [
    "score_model(rfgrid, \"Random Forest\", .1, X_test, y_test)"
   ]
  },
  {
   "cell_type": "code",
   "execution_count": 160,
   "metadata": {},
   "outputs": [
    {
     "name": "stdout",
     "output_type": "stream",
     "text": [
      "False Positive Rate 0.4914141414141414\n",
      "False Negative Rate 0.04918032786885246\n",
      "Accuracy 0.5342530922930543\n"
     ]
    }
   ],
   "source": [
    "score_model(rfgrid, \"Random Forest\", .2, X_test, y_test)"
   ]
  },
  {
   "cell_type": "code",
   "execution_count": 161,
   "metadata": {},
   "outputs": [
    {
     "name": "stdout",
     "output_type": "stream",
     "text": [
      "False Positive Rate 0.36717171717171715\n",
      "False Negative Rate 0.09836065573770492\n",
      "Accuracy 0.648430066603235\n"
     ]
    }
   ],
   "source": [
    "score_model(rfgrid, \"Random Forest\", .3, X_test, y_test)"
   ]
  },
  {
   "cell_type": "code",
   "execution_count": 162,
   "metadata": {},
   "outputs": [
    {
     "name": "stdout",
     "output_type": "stream",
     "text": [
      "False Positive Rate 0.2833333333333333\n",
      "False Negative Rate 0.20491803278688525\n",
      "Accuracy 0.7212178877259753\n"
     ]
    }
   ],
   "source": [
    "score_model(rfgrid, \"Random Forest\", .4, X_test, y_test)"
   ]
  },
  {
   "cell_type": "code",
   "execution_count": 163,
   "metadata": {},
   "outputs": [
    {
     "name": "stdout",
     "output_type": "stream",
     "text": [
      "False Positive Rate 0.19494949494949496\n",
      "False Negative Rate 0.29508196721311475\n",
      "Accuracy 0.7992388201712655\n"
     ]
    }
   ],
   "source": [
    "score_model(rfgrid, \"Random Forest\", .5, X_test, y_test)"
   ]
  },
  {
   "cell_type": "markdown",
   "metadata": {},
   "source": [
    "## D.3. Find out what the Random Forest Model was focusing on"
   ]
  },
  {
   "cell_type": "code",
   "execution_count": 164,
   "metadata": {},
   "outputs": [],
   "source": [
    "importance=rfgrid.best_estimator_.feature_importances_"
   ]
  },
  {
   "cell_type": "code",
   "execution_count": 165,
   "metadata": {},
   "outputs": [
    {
     "data": {
      "text/plain": [
       "array([0.0122151 , 0.01740513, 0.03223286, 0.10935201, 0.07144889,\n",
       "       0.0506097 , 0.03821476, 0.04253734, 0.18249562, 0.20902321,\n",
       "       0.08510879, 0.07352794, 0.05613351, 0.00246576, 0.00285765,\n",
       "       0.00577519, 0.00264401, 0.00595254])"
      ]
     },
     "execution_count": 165,
     "metadata": {},
     "output_type": "execute_result"
    }
   ],
   "source": [
    "importance"
   ]
  },
  {
   "cell_type": "code",
   "execution_count": 166,
   "metadata": {},
   "outputs": [],
   "source": [
    "explanation=pd.DataFrame({'features':features, 'importance':importance})"
   ]
  },
  {
   "cell_type": "code",
   "execution_count": 167,
   "metadata": {},
   "outputs": [
    {
     "data": {
      "text/html": [
       "<div>\n",
       "<style scoped>\n",
       "    .dataframe tbody tr th:only-of-type {\n",
       "        vertical-align: middle;\n",
       "    }\n",
       "\n",
       "    .dataframe tbody tr th {\n",
       "        vertical-align: top;\n",
       "    }\n",
       "\n",
       "    .dataframe thead th {\n",
       "        text-align: right;\n",
       "    }\n",
       "</style>\n",
       "<table border=\"1\" class=\"dataframe\">\n",
       "  <thead>\n",
       "    <tr style=\"text-align: right;\">\n",
       "      <th></th>\n",
       "      <th>features</th>\n",
       "      <th>importance</th>\n",
       "    </tr>\n",
       "  </thead>\n",
       "  <tbody>\n",
       "    <tr>\n",
       "      <th>13</th>\n",
       "      <td>W OHARE AIRPORT</td>\n",
       "      <td>0.002466</td>\n",
       "    </tr>\n",
       "    <tr>\n",
       "      <th>16</th>\n",
       "      <td>N MILWAUKEE AVE</td>\n",
       "      <td>0.002644</td>\n",
       "    </tr>\n",
       "    <tr>\n",
       "      <th>14</th>\n",
       "      <td>N OAK PARK AVE</td>\n",
       "      <td>0.002858</td>\n",
       "    </tr>\n",
       "    <tr>\n",
       "      <th>15</th>\n",
       "      <td>S DOTY AVE</td>\n",
       "      <td>0.005775</td>\n",
       "    </tr>\n",
       "    <tr>\n",
       "      <th>17</th>\n",
       "      <td>S KOSTNER AVE</td>\n",
       "      <td>0.005953</td>\n",
       "    </tr>\n",
       "    <tr>\n",
       "      <th>0</th>\n",
       "      <td>MIX</td>\n",
       "      <td>0.012215</td>\n",
       "    </tr>\n",
       "    <tr>\n",
       "      <th>1</th>\n",
       "      <td>PIPIENS</td>\n",
       "      <td>0.017405</td>\n",
       "    </tr>\n",
       "    <tr>\n",
       "      <th>2</th>\n",
       "      <td>RESTUANS</td>\n",
       "      <td>0.032233</td>\n",
       "    </tr>\n",
       "    <tr>\n",
       "      <th>6</th>\n",
       "      <td>dist_to_standing_water</td>\n",
       "      <td>0.038215</td>\n",
       "    </tr>\n",
       "    <tr>\n",
       "      <th>7</th>\n",
       "      <td>dist_to_spray</td>\n",
       "      <td>0.042537</td>\n",
       "    </tr>\n",
       "    <tr>\n",
       "      <th>5</th>\n",
       "      <td>recent_precip</td>\n",
       "      <td>0.050610</td>\n",
       "    </tr>\n",
       "    <tr>\n",
       "      <th>12</th>\n",
       "      <td>north_south</td>\n",
       "      <td>0.056134</td>\n",
       "    </tr>\n",
       "    <tr>\n",
       "      <th>4</th>\n",
       "      <td>min_recent_temps</td>\n",
       "      <td>0.071449</td>\n",
       "    </tr>\n",
       "    <tr>\n",
       "      <th>11</th>\n",
       "      <td>east_west</td>\n",
       "      <td>0.073528</td>\n",
       "    </tr>\n",
       "    <tr>\n",
       "      <th>10</th>\n",
       "      <td>recent_wind</td>\n",
       "      <td>0.085109</td>\n",
       "    </tr>\n",
       "    <tr>\n",
       "      <th>3</th>\n",
       "      <td>recent_temps</td>\n",
       "      <td>0.109352</td>\n",
       "    </tr>\n",
       "    <tr>\n",
       "      <th>8</th>\n",
       "      <td>recent_day_length</td>\n",
       "      <td>0.182496</td>\n",
       "    </tr>\n",
       "    <tr>\n",
       "      <th>9</th>\n",
       "      <td>day_length_2</td>\n",
       "      <td>0.209023</td>\n",
       "    </tr>\n",
       "  </tbody>\n",
       "</table>\n",
       "</div>"
      ],
      "text/plain": [
       "                  features  importance\n",
       "13         W OHARE AIRPORT    0.002466\n",
       "16         N MILWAUKEE AVE    0.002644\n",
       "14          N OAK PARK AVE    0.002858\n",
       "15              S DOTY AVE    0.005775\n",
       "17           S KOSTNER AVE    0.005953\n",
       "0                      MIX    0.012215\n",
       "1                  PIPIENS    0.017405\n",
       "2                 RESTUANS    0.032233\n",
       "6   dist_to_standing_water    0.038215\n",
       "7            dist_to_spray    0.042537\n",
       "5            recent_precip    0.050610\n",
       "12             north_south    0.056134\n",
       "4         min_recent_temps    0.071449\n",
       "11               east_west    0.073528\n",
       "10             recent_wind    0.085109\n",
       "3             recent_temps    0.109352\n",
       "8        recent_day_length    0.182496\n",
       "9             day_length_2    0.209023"
      ]
     },
     "execution_count": 167,
     "metadata": {},
     "output_type": "execute_result"
    }
   ],
   "source": [
    "explanation.sort_values(by='importance', ascending=True)"
   ]
  },
  {
   "cell_type": "code",
   "execution_count": 168,
   "metadata": {},
   "outputs": [
    {
     "name": "stdout",
     "output_type": "stream",
     "text": [
      "2.0733572212885703\n",
      "2.323630532478759\n"
     ]
    }
   ],
   "source": [
    "\n",
    "print(train.loc[train['WnvPresent']==1]['dist_to_spray'].mean())\n",
    "print(train.loc[train['WnvPresent']==0]['dist_to_spray'].mean())\n"
   ]
  },
  {
   "cell_type": "code",
   "execution_count": 169,
   "metadata": {},
   "outputs": [
    {
     "name": "stdout",
     "output_type": "stream",
     "text": [
      "1.1704312191125084\n",
      "0.9838460696166562\n"
     ]
    }
   ],
   "source": [
    "print(train.loc[train['WnvPresent']==1]['dist_to_standing_water'].mean())\n",
    "print(train.loc[train['WnvPresent']==0]['dist_to_standing_water'].mean())\n"
   ]
  },
  {
   "cell_type": "markdown",
   "metadata": {},
   "source": [
    "# E. Support Vector Machine generating AUC score of .73, slightly better than Random Forest.  Also showing less overfitting than Random Forest."
   ]
  },
  {
   "cell_type": "code",
   "execution_count": 170,
   "metadata": {},
   "outputs": [],
   "source": [
    "pipeline3 = Pipeline([\n",
    "    \n",
    "    ('ss', StandardScaler()),\n",
    "    ('sv', svm.SVC())\n",
    "])\n",
    "\n"
   ]
  },
  {
   "cell_type": "code",
   "execution_count": 171,
   "metadata": {},
   "outputs": [],
   "source": [
    "hyperparameters={\n",
    "            'sv__C':[.1] ,   \n",
    "            'sv__gamma': [.1],\n",
    "            'sv__class_weight': ['balanced'],\n",
    "            'sv__probability': [True]\n",
    "}\n",
    "                \n",
    "svcgrid = GridSearchCV(pipeline3, hyperparameters, cv=3, scoring='roc_auc')"
   ]
  },
  {
   "cell_type": "code",
   "execution_count": 172,
   "metadata": {},
   "outputs": [
    {
     "data": {
      "text/plain": [
       "GridSearchCV(cv=3, error_score='raise',\n",
       "       estimator=Pipeline(memory=None,\n",
       "     steps=[('ss', StandardScaler(copy=True, with_mean=True, with_std=True)), ('sv', SVC(C=1.0, cache_size=200, class_weight=None, coef0=0.0,\n",
       "  decision_function_shape='ovr', degree=3, gamma='auto', kernel='rbf',\n",
       "  max_iter=-1, probability=False, random_state=None, shrinking=True,\n",
       "  tol=0.001, verbose=False))]),\n",
       "       fit_params=None, iid=True, n_jobs=1,\n",
       "       param_grid={'sv__C': array([1.e-04, 1.e-01, 1.e+02]), 'sv__gamma': array([1.e-04, 1.e-01, 1.e+02]), 'sv__class_weight': ['balanced'], 'sv__probability': [True]},\n",
       "       pre_dispatch='2*n_jobs', refit=True, return_train_score='warn',\n",
       "       scoring='roc_auc', verbose=0)"
      ]
     },
     "execution_count": 172,
     "metadata": {},
     "output_type": "execute_result"
    }
   ],
   "source": [
    "# I didn't use the oversampled data because SVC has an alternate method of setting balanced\n",
    "# class weightings, instead of using oversampled data.\n",
    "\n",
    "svcgrid.fit(X_train, y_train)"
   ]
  },
  {
   "cell_type": "code",
   "execution_count": 173,
   "metadata": {},
   "outputs": [
    {
     "data": {
      "text/plain": [
       "{'sv__C': 0.1,\n",
       " 'sv__class_weight': 'balanced',\n",
       " 'sv__gamma': 0.1,\n",
       " 'sv__probability': True}"
      ]
     },
     "execution_count": 173,
     "metadata": {},
     "output_type": "execute_result"
    }
   ],
   "source": [
    "svcgrid.best_params_"
   ]
  },
  {
   "cell_type": "code",
   "execution_count": 174,
   "metadata": {},
   "outputs": [
    {
     "data": {
      "text/plain": [
       "0.8500423087883904"
      ]
     },
     "execution_count": 174,
     "metadata": {},
     "output_type": "execute_result"
    }
   ],
   "source": [
    "svcgrid.score(X_train, y_train)"
   ]
  },
  {
   "cell_type": "code",
   "execution_count": 175,
   "metadata": {},
   "outputs": [
    {
     "data": {
      "text/plain": [
       "0.7999234144725947"
      ]
     },
     "execution_count": 175,
     "metadata": {},
     "output_type": "execute_result"
    }
   ],
   "source": [
    "svcgrid.score(X_test, y_test)"
   ]
  },
  {
   "cell_type": "code",
   "execution_count": 176,
   "metadata": {},
   "outputs": [
    {
     "data": {
      "text/plain": [
       "0.7364505712866368"
      ]
     },
     "execution_count": 176,
     "metadata": {},
     "output_type": "execute_result"
    }
   ],
   "source": [
    "roc_auc_score(y_test, svcgrid.predict(X_test))"
   ]
  },
  {
   "cell_type": "code",
   "execution_count": 177,
   "metadata": {},
   "outputs": [
    {
     "data": {
      "text/plain": [
       "0.7794437746161884"
      ]
     },
     "execution_count": 177,
     "metadata": {},
     "output_type": "execute_result"
    }
   ],
   "source": [
    "roc_auc_score(y_train, svcgrid.predict(X_train))"
   ]
  },
  {
   "cell_type": "code",
   "execution_count": 178,
   "metadata": {},
   "outputs": [
    {
     "name": "stdout",
     "output_type": "stream",
     "text": [
      "False Positive Rate 0.6313131313131313\n",
      "False Negative Rate 0.03278688524590164\n",
      "Accuracy 0.4034253092293054\n"
     ]
    }
   ],
   "source": [
    "score_model(svcgrid, \"SVC\", .1, X_test, y_test)"
   ]
  },
  {
   "cell_type": "code",
   "execution_count": 179,
   "metadata": {},
   "outputs": [
    {
     "name": "stdout",
     "output_type": "stream",
     "text": [
      "False Positive Rate 0.4914141414141414\n",
      "False Negative Rate 0.04918032786885246\n",
      "Accuracy 0.5342530922930543\n"
     ]
    }
   ],
   "source": [
    "score_model(svcgrid, \"SVC\", .2, X_test, y_test)"
   ]
  },
  {
   "cell_type": "code",
   "execution_count": 180,
   "metadata": {},
   "outputs": [
    {
     "name": "stdout",
     "output_type": "stream",
     "text": [
      "False Positive Rate 0.36717171717171715\n",
      "False Negative Rate 0.09836065573770492\n",
      "Accuracy 0.648430066603235\n"
     ]
    }
   ],
   "source": [
    "score_model(svcgrid, \"SVC\", .3, X_test, y_test)"
   ]
  },
  {
   "cell_type": "code",
   "execution_count": 181,
   "metadata": {},
   "outputs": [
    {
     "name": "stdout",
     "output_type": "stream",
     "text": [
      "False Positive Rate 0.2833333333333333\n",
      "False Negative Rate 0.20491803278688525\n",
      "Accuracy 0.7212178877259753\n"
     ]
    }
   ],
   "source": [
    "score_model(svcgrid, \"SVC\", .4, X_test, y_test)"
   ]
  },
  {
   "cell_type": "code",
   "execution_count": 182,
   "metadata": {},
   "outputs": [
    {
     "name": "stdout",
     "output_type": "stream",
     "text": [
      "False Positive Rate 0.19494949494949496\n",
      "False Negative Rate 0.29508196721311475\n",
      "Accuracy 0.7992388201712655\n"
     ]
    }
   ],
   "source": [
    "score_model(svcgrid, \"SVC\", .5, X_test, y_test)"
   ]
  },
  {
   "cell_type": "markdown",
   "metadata": {},
   "source": [
    "# F. Logistic Regression has comparable results to SVC.  Very little sign of overfitting."
   ]
  },
  {
   "cell_type": "code",
   "execution_count": 210,
   "metadata": {},
   "outputs": [],
   "source": [
    "ss=StandardScaler()"
   ]
  },
  {
   "cell_type": "code",
   "execution_count": 211,
   "metadata": {},
   "outputs": [],
   "source": [
    "X_train_o=ss.fit_transform(X_train_o)"
   ]
  },
  {
   "cell_type": "code",
   "execution_count": 212,
   "metadata": {},
   "outputs": [],
   "source": [
    "X_test=ss.transform(X_test)"
   ]
  },
  {
   "cell_type": "code",
   "execution_count": 213,
   "metadata": {},
   "outputs": [],
   "source": [
    "lm=LogisticRegression(C=10, penalty='l1')"
   ]
  },
  {
   "cell_type": "code",
   "execution_count": 214,
   "metadata": {},
   "outputs": [
    {
     "data": {
      "text/plain": [
       "LogisticRegression(C=10, class_weight=None, dual=False, fit_intercept=True,\n",
       "          intercept_scaling=1, max_iter=100, multi_class='ovr', n_jobs=1,\n",
       "          penalty='l1', random_state=None, solver='liblinear', tol=0.0001,\n",
       "          verbose=0, warm_start=False)"
      ]
     },
     "execution_count": 214,
     "metadata": {},
     "output_type": "execute_result"
    }
   ],
   "source": [
    "# Using oversampled training data\n",
    "\n",
    "lm.fit(X_train_o, y_train_o)"
   ]
  },
  {
   "cell_type": "code",
   "execution_count": 215,
   "metadata": {},
   "outputs": [
    {
     "data": {
      "text/plain": [
       "0.7268339128994867"
      ]
     },
     "execution_count": 215,
     "metadata": {},
     "output_type": "execute_result"
    }
   ],
   "source": [
    "roc_auc_score(y_test, lm.predict(X_test))"
   ]
  },
  {
   "cell_type": "code",
   "execution_count": 216,
   "metadata": {},
   "outputs": [
    {
     "data": {
      "text/plain": [
       "0.7431974921630095"
      ]
     },
     "execution_count": 216,
     "metadata": {},
     "output_type": "execute_result"
    }
   ],
   "source": [
    "roc_auc_score(y_train_o, lm.predict(X_train_o))"
   ]
  },
  {
   "cell_type": "code",
   "execution_count": 217,
   "metadata": {},
   "outputs": [
    {
     "name": "stdout",
     "output_type": "stream",
     "text": [
      "False Positive Rate 0.7358585858585859\n",
      "False Negative Rate 0.0\n",
      "Accuracy 0.30685061845861084\n"
     ]
    }
   ],
   "source": [
    "score_model(lm, \"Logistic Regression\", .1, X_test, y_test)"
   ]
  },
  {
   "cell_type": "code",
   "execution_count": 218,
   "metadata": {},
   "outputs": [
    {
     "name": "stdout",
     "output_type": "stream",
     "text": [
      "False Positive Rate 0.6106060606060606\n",
      "False Negative Rate 0.02459016393442623\n",
      "Accuracy 0.4234062797335871\n"
     ]
    }
   ],
   "source": [
    "score_model(lm, \"Logistic Regression\", .2, X_test, y_test)"
   ]
  },
  {
   "cell_type": "code",
   "execution_count": 219,
   "metadata": {},
   "outputs": [
    {
     "name": "stdout",
     "output_type": "stream",
     "text": [
      "False Positive Rate 0.5313131313131313\n",
      "False Negative Rate 0.07377049180327869\n",
      "Accuracy 0.49524262607040914\n"
     ]
    }
   ],
   "source": [
    "score_model(lm, \"Logistic Regression\", .3, X_test, y_test)"
   ]
  },
  {
   "cell_type": "code",
   "execution_count": 220,
   "metadata": {},
   "outputs": [
    {
     "name": "stdout",
     "output_type": "stream",
     "text": [
      "False Positive Rate 0.4414141414141414\n",
      "False Negative Rate 0.12295081967213115\n",
      "Accuracy 0.577069457659372\n"
     ]
    }
   ],
   "source": [
    "score_model(lm, \"Logistic Regression\", .4, X_test, y_test)"
   ]
  },
  {
   "cell_type": "code",
   "execution_count": 221,
   "metadata": {},
   "outputs": [
    {
     "name": "stdout",
     "output_type": "stream",
     "text": [
      "False Positive Rate 0.3414141414141414\n",
      "False Negative Rate 0.20491803278688525\n",
      "Accuracy 0.6665080875356802\n"
     ]
    }
   ],
   "source": [
    "score_model(lm, \"Logistic Regression\", .5, X_test, y_test)"
   ]
  },
  {
   "cell_type": "code",
   "execution_count": 222,
   "metadata": {},
   "outputs": [
    {
     "name": "stdout",
     "output_type": "stream",
     "text": [
      "False Positive Rate 0.24292929292929294\n",
      "False Negative Rate 0.3114754098360656\n",
      "Accuracy 0.7530922930542341\n"
     ]
    }
   ],
   "source": [
    "score_model(lm, \"Logistic Regression\", .6, X_test, y_test)"
   ]
  },
  {
   "cell_type": "code",
   "execution_count": 223,
   "metadata": {},
   "outputs": [
    {
     "name": "stdout",
     "output_type": "stream",
     "text": [
      "False Positive Rate 0.14393939393939395\n",
      "False Negative Rate 0.4918032786885246\n",
      "Accuracy 0.8358705994291151\n"
     ]
    }
   ],
   "source": [
    "score_model(lm, \"Logistic Regression\", .7, X_test, y_test)"
   ]
  },
  {
   "cell_type": "code",
   "execution_count": 224,
   "metadata": {},
   "outputs": [
    {
     "name": "stdout",
     "output_type": "stream",
     "text": [
      "False Positive Rate 0.03737373737373737\n",
      "False Negative Rate 0.7950819672131147\n",
      "Accuracy 0.9186489058039962\n"
     ]
    }
   ],
   "source": [
    "score_model(lm, \"Logistic Regression\", .8, X_test, y_test)"
   ]
  },
  {
   "cell_type": "code",
   "execution_count": 225,
   "metadata": {},
   "outputs": [
    {
     "name": "stdout",
     "output_type": "stream",
     "text": [
      "False Positive Rate 0.005050505050505051\n",
      "False Negative Rate 0.9344262295081968\n",
      "Accuracy 0.9410085632730733\n"
     ]
    }
   ],
   "source": [
    "score_model(lm, \"Logistic Regression\", .9, X_test, y_test)"
   ]
  },
  {
   "cell_type": "markdown",
   "metadata": {},
   "source": [
    "# G. What is the regression looking at?"
   ]
  },
  {
   "cell_type": "code",
   "execution_count": 226,
   "metadata": {},
   "outputs": [],
   "source": [
    "coefs=lm.coef_"
   ]
  },
  {
   "cell_type": "code",
   "execution_count": 227,
   "metadata": {},
   "outputs": [],
   "source": [
    "coefs=coefs.ravel()"
   ]
  },
  {
   "cell_type": "code",
   "execution_count": 228,
   "metadata": {},
   "outputs": [],
   "source": [
    "explanation=pd.DataFrame({'features':features, 'coefs':coefs})"
   ]
  },
  {
   "cell_type": "code",
   "execution_count": 229,
   "metadata": {},
   "outputs": [
    {
     "data": {
      "text/html": [
       "<div>\n",
       "<style scoped>\n",
       "    .dataframe tbody tr th:only-of-type {\n",
       "        vertical-align: middle;\n",
       "    }\n",
       "\n",
       "    .dataframe tbody tr th {\n",
       "        vertical-align: top;\n",
       "    }\n",
       "\n",
       "    .dataframe thead th {\n",
       "        text-align: right;\n",
       "    }\n",
       "</style>\n",
       "<table border=\"1\" class=\"dataframe\">\n",
       "  <thead>\n",
       "    <tr style=\"text-align: right;\">\n",
       "      <th></th>\n",
       "      <th>coefs</th>\n",
       "      <th>features</th>\n",
       "    </tr>\n",
       "  </thead>\n",
       "  <tbody>\n",
       "    <tr>\n",
       "      <th>9</th>\n",
       "      <td>-30.045362</td>\n",
       "      <td>day_length_2</td>\n",
       "    </tr>\n",
       "    <tr>\n",
       "      <th>12</th>\n",
       "      <td>-0.515984</td>\n",
       "      <td>north_south</td>\n",
       "    </tr>\n",
       "    <tr>\n",
       "      <th>6</th>\n",
       "      <td>-0.122009</td>\n",
       "      <td>dist_to_standing_water</td>\n",
       "    </tr>\n",
       "    <tr>\n",
       "      <th>5</th>\n",
       "      <td>-0.079327</td>\n",
       "      <td>recent_precip</td>\n",
       "    </tr>\n",
       "    <tr>\n",
       "      <th>4</th>\n",
       "      <td>-0.059005</td>\n",
       "      <td>min_recent_temps</td>\n",
       "    </tr>\n",
       "    <tr>\n",
       "      <th>7</th>\n",
       "      <td>-0.055922</td>\n",
       "      <td>dist_to_spray</td>\n",
       "    </tr>\n",
       "    <tr>\n",
       "      <th>11</th>\n",
       "      <td>0.000000</td>\n",
       "      <td>east_west</td>\n",
       "    </tr>\n",
       "    <tr>\n",
       "      <th>10</th>\n",
       "      <td>0.079250</td>\n",
       "      <td>recent_wind</td>\n",
       "    </tr>\n",
       "    <tr>\n",
       "      <th>15</th>\n",
       "      <td>0.120906</td>\n",
       "      <td>W OHARE AIRPORT</td>\n",
       "    </tr>\n",
       "    <tr>\n",
       "      <th>17</th>\n",
       "      <td>0.127091</td>\n",
       "      <td>S DOTY AVE</td>\n",
       "    </tr>\n",
       "    <tr>\n",
       "      <th>19</th>\n",
       "      <td>0.152853</td>\n",
       "      <td>S KOSTNER AVE</td>\n",
       "    </tr>\n",
       "    <tr>\n",
       "      <th>18</th>\n",
       "      <td>0.155937</td>\n",
       "      <td>N MILWAUKEE AVE</td>\n",
       "    </tr>\n",
       "    <tr>\n",
       "      <th>16</th>\n",
       "      <td>0.183572</td>\n",
       "      <td>N OAK PARK AVE</td>\n",
       "    </tr>\n",
       "    <tr>\n",
       "      <th>3</th>\n",
       "      <td>0.340799</td>\n",
       "      <td>recent_temps</td>\n",
       "    </tr>\n",
       "    <tr>\n",
       "      <th>14</th>\n",
       "      <td>0.394114</td>\n",
       "      <td>north_south2</td>\n",
       "    </tr>\n",
       "    <tr>\n",
       "      <th>13</th>\n",
       "      <td>0.467429</td>\n",
       "      <td>east_west2</td>\n",
       "    </tr>\n",
       "    <tr>\n",
       "      <th>2</th>\n",
       "      <td>2.446686</td>\n",
       "      <td>RESTUANS</td>\n",
       "    </tr>\n",
       "    <tr>\n",
       "      <th>1</th>\n",
       "      <td>3.390558</td>\n",
       "      <td>PIPIENS</td>\n",
       "    </tr>\n",
       "    <tr>\n",
       "      <th>0</th>\n",
       "      <td>3.534797</td>\n",
       "      <td>MIX</td>\n",
       "    </tr>\n",
       "    <tr>\n",
       "      <th>8</th>\n",
       "      <td>29.551569</td>\n",
       "      <td>recent_day_length</td>\n",
       "    </tr>\n",
       "  </tbody>\n",
       "</table>\n",
       "</div>"
      ],
      "text/plain": [
       "        coefs                features\n",
       "9  -30.045362            day_length_2\n",
       "12  -0.515984             north_south\n",
       "6   -0.122009  dist_to_standing_water\n",
       "5   -0.079327           recent_precip\n",
       "4   -0.059005        min_recent_temps\n",
       "7   -0.055922           dist_to_spray\n",
       "11   0.000000               east_west\n",
       "10   0.079250             recent_wind\n",
       "15   0.120906         W OHARE AIRPORT\n",
       "17   0.127091              S DOTY AVE\n",
       "19   0.152853           S KOSTNER AVE\n",
       "18   0.155937         N MILWAUKEE AVE\n",
       "16   0.183572          N OAK PARK AVE\n",
       "3    0.340799            recent_temps\n",
       "14   0.394114            north_south2\n",
       "13   0.467429              east_west2\n",
       "2    2.446686                RESTUANS\n",
       "1    3.390558                 PIPIENS\n",
       "0    3.534797                     MIX\n",
       "8   29.551569       recent_day_length"
      ]
     },
     "execution_count": 229,
     "metadata": {},
     "output_type": "execute_result"
    }
   ],
   "source": [
    "explanation.sort_values(by='coefs')"
   ]
  },
  {
   "cell_type": "code",
   "execution_count": null,
   "metadata": {},
   "outputs": [],
   "source": []
  },
  {
   "cell_type": "code",
   "execution_count": null,
   "metadata": {},
   "outputs": [],
   "source": []
  }
 ],
 "metadata": {
  "kernelspec": {
   "display_name": "Python 3",
   "language": "python",
   "name": "python3"
  },
  "language_info": {
   "codemirror_mode": {
    "name": "ipython",
    "version": 3
   },
   "file_extension": ".py",
   "mimetype": "text/x-python",
   "name": "python",
   "nbconvert_exporter": "python",
   "pygments_lexer": "ipython3",
   "version": "3.6.5"
  }
 },
 "nbformat": 4,
 "nbformat_minor": 2
}
